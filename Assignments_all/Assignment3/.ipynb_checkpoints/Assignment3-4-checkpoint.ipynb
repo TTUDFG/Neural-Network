{
 "cells": [
  {
   "cell_type": "code",
   "execution_count": 1,
   "id": "51e303c2",
   "metadata": {},
   "outputs": [],
   "source": [
    "import pandas as pd\n",
    "import torch.nn as nn\n",
    "import torch\n",
    "import numpy as np\n",
    "import torch.optim as optim\n",
    "from torch.utils.data import Dataset\n",
    "from torch.utils.data import DataLoader\n",
    "from torch.autograd import Variable\n",
    "import os\n",
    "from sklearn.preprocessing import MinMaxScaler"
   ]
  },
  {
   "cell_type": "code",
   "execution_count": 2,
   "id": "ccb1b193",
   "metadata": {},
   "outputs": [
    {
     "data": {
      "text/html": [
       "<div>\n",
       "<style scoped>\n",
       "    .dataframe tbody tr th:only-of-type {\n",
       "        vertical-align: middle;\n",
       "    }\n",
       "\n",
       "    .dataframe tbody tr th {\n",
       "        vertical-align: top;\n",
       "    }\n",
       "\n",
       "    .dataframe thead th {\n",
       "        text-align: right;\n",
       "    }\n",
       "</style>\n",
       "<table border=\"1\" class=\"dataframe\">\n",
       "  <thead>\n",
       "    <tr style=\"text-align: right;\">\n",
       "      <th></th>\n",
       "      <th></th>\n",
       "      <th>Date</th>\n",
       "      <th>Close</th>\n",
       "      <th>Open</th>\n",
       "      <th>High</th>\n",
       "      <th>Low</th>\n",
       "    </tr>\n",
       "  </thead>\n",
       "  <tbody>\n",
       "    <tr>\n",
       "      <th>0</th>\n",
       "      <td>0</td>\n",
       "      <td>1960-01-04</td>\n",
       "      <td>59.910000</td>\n",
       "      <td>59.910000</td>\n",
       "      <td>59.910000</td>\n",
       "      <td>59.910000</td>\n",
       "    </tr>\n",
       "    <tr>\n",
       "      <th>1</th>\n",
       "      <td>1</td>\n",
       "      <td>1960-01-05</td>\n",
       "      <td>60.389999</td>\n",
       "      <td>60.389999</td>\n",
       "      <td>60.389999</td>\n",
       "      <td>60.389999</td>\n",
       "    </tr>\n",
       "    <tr>\n",
       "      <th>2</th>\n",
       "      <td>2</td>\n",
       "      <td>1960-01-06</td>\n",
       "      <td>60.130001</td>\n",
       "      <td>60.130001</td>\n",
       "      <td>60.130001</td>\n",
       "      <td>60.130001</td>\n",
       "    </tr>\n",
       "    <tr>\n",
       "      <th>3</th>\n",
       "      <td>3</td>\n",
       "      <td>1960-01-07</td>\n",
       "      <td>59.689999</td>\n",
       "      <td>59.689999</td>\n",
       "      <td>59.689999</td>\n",
       "      <td>59.689999</td>\n",
       "    </tr>\n",
       "    <tr>\n",
       "      <th>4</th>\n",
       "      <td>4</td>\n",
       "      <td>1960-01-08</td>\n",
       "      <td>59.500000</td>\n",
       "      <td>59.500000</td>\n",
       "      <td>59.500000</td>\n",
       "      <td>59.500000</td>\n",
       "    </tr>\n",
       "    <tr>\n",
       "      <th>...</th>\n",
       "      <td>...</td>\n",
       "      <td>...</td>\n",
       "      <td>...</td>\n",
       "      <td>...</td>\n",
       "      <td>...</td>\n",
       "      <td>...</td>\n",
       "    </tr>\n",
       "    <tr>\n",
       "      <th>15671</th>\n",
       "      <td>15671</td>\n",
       "      <td>2022-02-11</td>\n",
       "      <td>4418.640000</td>\n",
       "      <td>4506.270000</td>\n",
       "      <td>4526.330000</td>\n",
       "      <td>4401.410000</td>\n",
       "    </tr>\n",
       "    <tr>\n",
       "      <th>15672</th>\n",
       "      <td>15672</td>\n",
       "      <td>2022-02-14</td>\n",
       "      <td>4401.670000</td>\n",
       "      <td>4412.610000</td>\n",
       "      <td>4426.220000</td>\n",
       "      <td>4364.840000</td>\n",
       "    </tr>\n",
       "    <tr>\n",
       "      <th>15673</th>\n",
       "      <td>15673</td>\n",
       "      <td>2022-02-15</td>\n",
       "      <td>4471.070000</td>\n",
       "      <td>4429.280000</td>\n",
       "      <td>4472.770000</td>\n",
       "      <td>4429.280000</td>\n",
       "    </tr>\n",
       "    <tr>\n",
       "      <th>15674</th>\n",
       "      <td>15674</td>\n",
       "      <td>2022-02-16</td>\n",
       "      <td>4475.010000</td>\n",
       "      <td>4455.750000</td>\n",
       "      <td>4489.550000</td>\n",
       "      <td>4429.680000</td>\n",
       "    </tr>\n",
       "    <tr>\n",
       "      <th>15675</th>\n",
       "      <td>15675</td>\n",
       "      <td>2022-02-17</td>\n",
       "      <td>4380.260000</td>\n",
       "      <td>4456.060000</td>\n",
       "      <td>4456.060000</td>\n",
       "      <td>4373.810000</td>\n",
       "    </tr>\n",
       "  </tbody>\n",
       "</table>\n",
       "<p>15676 rows × 6 columns</p>\n",
       "</div>"
      ],
      "text/plain": [
       "                   Date        Close         Open         High          Low\n",
       "0          0 1960-01-04    59.910000    59.910000    59.910000    59.910000\n",
       "1          1 1960-01-05    60.389999    60.389999    60.389999    60.389999\n",
       "2          2 1960-01-06    60.130001    60.130001    60.130001    60.130001\n",
       "3          3 1960-01-07    59.689999    59.689999    59.689999    59.689999\n",
       "4          4 1960-01-08    59.500000    59.500000    59.500000    59.500000\n",
       "...      ...        ...          ...          ...          ...          ...\n",
       "15671  15671 2022-02-11  4418.640000  4506.270000  4526.330000  4401.410000\n",
       "15672  15672 2022-02-14  4401.670000  4412.610000  4426.220000  4364.840000\n",
       "15673  15673 2022-02-15  4471.070000  4429.280000  4472.770000  4429.280000\n",
       "15674  15674 2022-02-16  4475.010000  4455.750000  4489.550000  4429.680000\n",
       "15675  15675 2022-02-17  4380.260000  4456.060000  4456.060000  4373.810000\n",
       "\n",
       "[15676 rows x 6 columns]"
      ]
     },
     "execution_count": 2,
     "metadata": {},
     "output_type": "execute_result"
    }
   ],
   "source": [
    "# data\n",
    "# data.to_csv('data.csv')\n",
    "data = pd.read_csv('data.csv')\n",
    "data = data.drop(['PE','Ratio'], axis=1)\n",
    "data['Date'] = pd.to_datetime(data['Date'], format='%Y-%m-%d')\n",
    "# price['Date'] = price['Date'].dt.strftime('%m/%d/%Y')\n",
    "data.columns = ['', 'Date', 'Close', 'Open', 'High', 'Low']\n",
    "data"
   ]
  },
  {
   "cell_type": "code",
   "execution_count": 3,
   "id": "f14d3393",
   "metadata": {},
   "outputs": [
    {
     "data": {
      "text/plain": [
       "array([[0.00162509, 0.01246953, 0.01243302, 0.01253337],\n",
       "       [0.00172626, 0.01256944, 0.01253263, 0.01263379],\n",
       "       [0.00167146, 0.01251532, 0.01247868, 0.01257939],\n",
       "       ...,\n",
       "       [0.93139433, 0.92190046, 0.92822634, 0.92661986],\n",
       "       [0.93222479, 0.92740987, 0.93170866, 0.92670354],\n",
       "       [0.91225371, 0.92747439, 0.92475854, 0.91501536]])"
      ]
     },
     "execution_count": 3,
     "metadata": {},
     "output_type": "execute_result"
    }
   ],
   "source": [
    "dataset = data[['Close', 'Open', 'High', 'Low']].values\n",
    "scaler = MinMaxScaler(feature_range = (0, 1))\n",
    "dataset = scaler.fit_transform(dataset)\n",
    "dataset"
   ]
  },
  {
   "cell_type": "code",
   "execution_count": 4,
   "id": "cb821047",
   "metadata": {},
   "outputs": [
    {
     "name": "stdout",
     "output_type": "stream",
     "text": [
      "real_list:  (15493, 180, 4)\n",
      "label_list:  (15493, 1, 4)\n"
     ]
    }
   ],
   "source": [
    "seq_len = 180\n",
    "input_size = 4\n",
    "output_size = 4\n",
    "\n",
    "real_list = []\n",
    "label_list = []\n",
    "for i in range(dataset.shape[0] - seq_len - output_size + 1):\n",
    "    real_list.append(dataset[i: i + seq_len, ])\n",
    "    label_list.append(dataset[i + seq_len: i + seq_len + output_size, 0])\n",
    "real_list = np.array(real_list)\n",
    "label_list = np.array(label_list)\n",
    "label_list = np.reshape(label_list, (label_list.shape[0], 1, label_list.shape[1]))\n",
    "print(\"real_list: \" , real_list.shape)\n",
    "print(\"label_list: \" , label_list.shape)"
   ]
  },
  {
   "cell_type": "code",
   "execution_count": 5,
   "id": "79f2d920",
   "metadata": {},
   "outputs": [],
   "source": [
    "class SP500_Dataset(Dataset):\n",
    "    def __init__(self, dataset, label_list):\n",
    "        self.dataset = dataset\n",
    "        self.label_list = label_list\n",
    "    def __len__(self):\n",
    "        return len(self.label_list)\n",
    "    def __getitem__(self, idx):\n",
    "        data = self.dataset[idx]\n",
    "        label = self.label_list[idx]\n",
    "        return {\n",
    "            'data': torch.from_numpy(data).float(),\n",
    "            'label': torch.from_numpy(label).float()\n",
    "        }"
   ]
  },
  {
   "cell_type": "code",
   "execution_count": 6,
   "id": "a187e127",
   "metadata": {},
   "outputs": [],
   "source": [
    "class self_made_RNN(nn.Module):\n",
    "    # implement RNN from scratch rather than using nn.RNN\n",
    "    def __init__(self, input_size, hidden_size, output_size):\n",
    "        super(self_made_RNN, self).__init__()\n",
    "        \n",
    "        self.hidden_size = hidden_size\n",
    "        self.i2h = nn.Linear(input_size, hidden_size)\n",
    "        self.i2o = nn.Linear(hidden_size, output_size)\n",
    "        self.tanh = nn.Tanh()\n",
    "        \n",
    "    def forward(self, input_tensor, hidden_tensor):\n",
    "        combined = torch.cat((input_tensor, hidden_tensor), 0)\n",
    "        \n",
    "        hidden = self.i2h(combined)\n",
    "        output = self.i2o(combined)\n",
    "        output = self.tanh(output)\n",
    "        return output, hidden\n",
    "    \n",
    "    def init_hidden(self):\n",
    "        return torch.zeros(1, self.hidden_size)\n",
    "\n",
    "# class RNN(self_made_RNN):\n",
    "#     def __init__(self, input_size, output_size, hidden_size, num_layers):\n",
    "#         super(RNN, self).__init__(input_size, hidden_size, output_size)\n",
    "#         self.hidden_size = hidden_size\n",
    "#         self.num_layers = num_layers\n",
    "        \n",
    "#         self.rnn = self_made_RNN.RNN(input_size = input_size, hidden_size = hidden_size, output_size = output_size)\n",
    "#         self.linear = self_made_RNN.Linear(hidden_size, output_size)\n",
    "    \n",
    "#     def forward(self, x):\n",
    "#         batch_size = x.size(0)\n",
    "#         hidden = self.init_hidden(batch_size)\n",
    "#         res, hidden = self.rnn(x, hidden)\n",
    "#         res = self.linear(res)\n",
    "#         return res[:, -1, :], hidden\n",
    "        \n",
    "#     def init_hidden(self, batch_size):\n",
    "#         # This method generates the first hidden state of zeros which we'll use in the forward pass\n",
    "#         # We'll send the tensor holding the hidden state to the device we specified earlier as well\n",
    "#         hidden = torch.zeros(self.num_layers, batch_size, self.hidden_size)\n",
    "#         return hidden"
   ]
  },
  {
   "cell_type": "code",
   "execution_count": 7,
   "id": "54cb6d0a",
   "metadata": {},
   "outputs": [],
   "source": [
    "hidden_size = 16\n",
    "num_layers = 1\n",
    "learning_rate = 0.001\n",
    "num_epochs = 100"
   ]
  },
  {
   "cell_type": "code",
   "execution_count": 8,
   "id": "e6d43f1a",
   "metadata": {},
   "outputs": [],
   "source": [
    "train_dataset = SP500_Dataset(dataset = real_list, label_list = label_list)\n",
    "train_loader = DataLoader(dataset = train_dataset, shuffle=False)"
   ]
  },
  {
   "cell_type": "code",
   "execution_count": 9,
   "id": "a9b16f33",
   "metadata": {},
   "outputs": [
    {
     "ename": "RuntimeError",
     "evalue": "Tensors must have same number of dimensions: got 3 and 2",
     "output_type": "error",
     "traceback": [
      "\u001b[1;31m---------------------------------------------------------------------------\u001b[0m",
      "\u001b[1;31mRuntimeError\u001b[0m                              Traceback (most recent call last)",
      "\u001b[1;32m~\\AppData\\Local\\Temp/ipykernel_8292/1022227946.py\u001b[0m in \u001b[0;36m<module>\u001b[1;34m\u001b[0m\n\u001b[0;32m     14\u001b[0m \u001b[1;33m\u001b[0m\u001b[0m\n\u001b[0;32m     15\u001b[0m     \u001b[1;31m# Perform forward pass\u001b[0m\u001b[1;33m\u001b[0m\u001b[1;33m\u001b[0m\u001b[1;33m\u001b[0m\u001b[0m\n\u001b[1;32m---> 16\u001b[1;33m     \u001b[0moutput\u001b[0m\u001b[1;33m,\u001b[0m \u001b[0mhidden\u001b[0m \u001b[1;33m=\u001b[0m \u001b[0mmodel\u001b[0m\u001b[1;33m(\u001b[0m\u001b[0minputs\u001b[0m\u001b[1;33m,\u001b[0m\u001b[0mhidden_tensor\u001b[0m\u001b[1;33m)\u001b[0m\u001b[1;33m\u001b[0m\u001b[1;33m\u001b[0m\u001b[0m\n\u001b[0m\u001b[0;32m     17\u001b[0m \u001b[1;33m\u001b[0m\u001b[0m\n\u001b[0;32m     18\u001b[0m     \u001b[1;31m# Compute loss\u001b[0m\u001b[1;33m\u001b[0m\u001b[1;33m\u001b[0m\u001b[1;33m\u001b[0m\u001b[0m\n",
      "\u001b[1;32mc:\\users\\zhhua\\appdata\\local\\programs\\python\\python38\\lib\\site-packages\\torch\\nn\\modules\\module.py\u001b[0m in \u001b[0;36m_call_impl\u001b[1;34m(self, *input, **kwargs)\u001b[0m\n\u001b[0;32m   1100\u001b[0m         if not (self._backward_hooks or self._forward_hooks or self._forward_pre_hooks or _global_backward_hooks\n\u001b[0;32m   1101\u001b[0m                 or _global_forward_hooks or _global_forward_pre_hooks):\n\u001b[1;32m-> 1102\u001b[1;33m             \u001b[1;32mreturn\u001b[0m \u001b[0mforward_call\u001b[0m\u001b[1;33m(\u001b[0m\u001b[1;33m*\u001b[0m\u001b[0minput\u001b[0m\u001b[1;33m,\u001b[0m \u001b[1;33m**\u001b[0m\u001b[0mkwargs\u001b[0m\u001b[1;33m)\u001b[0m\u001b[1;33m\u001b[0m\u001b[1;33m\u001b[0m\u001b[0m\n\u001b[0m\u001b[0;32m   1103\u001b[0m         \u001b[1;31m# Do not call functions when jit is used\u001b[0m\u001b[1;33m\u001b[0m\u001b[1;33m\u001b[0m\u001b[1;33m\u001b[0m\u001b[0m\n\u001b[0;32m   1104\u001b[0m         \u001b[0mfull_backward_hooks\u001b[0m\u001b[1;33m,\u001b[0m \u001b[0mnon_full_backward_hooks\u001b[0m \u001b[1;33m=\u001b[0m \u001b[1;33m[\u001b[0m\u001b[1;33m]\u001b[0m\u001b[1;33m,\u001b[0m \u001b[1;33m[\u001b[0m\u001b[1;33m]\u001b[0m\u001b[1;33m\u001b[0m\u001b[1;33m\u001b[0m\u001b[0m\n",
      "\u001b[1;32m~\\AppData\\Local\\Temp/ipykernel_8292/1762084719.py\u001b[0m in \u001b[0;36mforward\u001b[1;34m(self, input_tensor, hidden_tensor)\u001b[0m\n\u001b[0;32m     10\u001b[0m \u001b[1;33m\u001b[0m\u001b[0m\n\u001b[0;32m     11\u001b[0m     \u001b[1;32mdef\u001b[0m \u001b[0mforward\u001b[0m\u001b[1;33m(\u001b[0m\u001b[0mself\u001b[0m\u001b[1;33m,\u001b[0m \u001b[0minput_tensor\u001b[0m\u001b[1;33m,\u001b[0m \u001b[0mhidden_tensor\u001b[0m\u001b[1;33m)\u001b[0m\u001b[1;33m:\u001b[0m\u001b[1;33m\u001b[0m\u001b[1;33m\u001b[0m\u001b[0m\n\u001b[1;32m---> 12\u001b[1;33m         \u001b[0mcombined\u001b[0m \u001b[1;33m=\u001b[0m \u001b[0mtorch\u001b[0m\u001b[1;33m.\u001b[0m\u001b[0mcat\u001b[0m\u001b[1;33m(\u001b[0m\u001b[1;33m(\u001b[0m\u001b[0minput_tensor\u001b[0m\u001b[1;33m,\u001b[0m \u001b[0mhidden_tensor\u001b[0m\u001b[1;33m)\u001b[0m\u001b[1;33m,\u001b[0m \u001b[1;36m0\u001b[0m\u001b[1;33m)\u001b[0m\u001b[1;33m\u001b[0m\u001b[1;33m\u001b[0m\u001b[0m\n\u001b[0m\u001b[0;32m     13\u001b[0m \u001b[1;33m\u001b[0m\u001b[0m\n\u001b[0;32m     14\u001b[0m         \u001b[0mhidden\u001b[0m \u001b[1;33m=\u001b[0m \u001b[0mself\u001b[0m\u001b[1;33m.\u001b[0m\u001b[0mi2h\u001b[0m\u001b[1;33m(\u001b[0m\u001b[0mcombined\u001b[0m\u001b[1;33m)\u001b[0m\u001b[1;33m\u001b[0m\u001b[1;33m\u001b[0m\u001b[0m\n",
      "\u001b[1;31mRuntimeError\u001b[0m: Tensors must have same number of dimensions: got 3 and 2"
     ]
    }
   ],
   "source": [
    "model = self_made_RNN(input_size, hidden_size, output_size)\n",
    "\n",
    "optimizer = torch.optim.Adam(model.parameters(), lr=learning_rate)\n",
    "criterion = nn.MSELoss()\n",
    "\n",
    "for epoch in range(num_epochs):\n",
    "    # make training sets in torch\n",
    "    inputs = Variable(torch.from_numpy(real_list).float())\n",
    "    hidden_tensor = model.init_hidden()\n",
    "    labels = Variable(torch.from_numpy(label_list).float())\n",
    "    \n",
    "    # zero the parameter (weight) gradients\n",
    "    optimizer.zero_grad()\n",
    "\n",
    "    # Perform forward pass\n",
    "    output, hidden = model(inputs,hidden_tensor)   \n",
    "    \n",
    "    # Compute loss\n",
    "    loss = criterion(output.reshape(-1), labels.view(-1))\n",
    "#     loss_all_1 += [loss.item()]\n",
    "       \n",
    "    # Backward pass\n",
    "    loss.backward(retain_graph=True)\n",
    "       \n",
    "    #loss for validation\n",
    "#     inputs_val = torch.from_numpy(X_val).float()\n",
    "#     labels_val = torch.from_numpy(y_val).float()\n",
    "#     output_val, hidden_val = rnn(inputs_val)\n",
    "#     loss_val = criterion(output_val.reshape(-1), labels_val.view(-1))\n",
    "#     loss_all_1_val += [loss_val.item()]\n",
    "    \n",
    "    if (epoch % 10 == 0 or epoch == num_epochs - 1):\n",
    "        print(\"[%d/%d] Loss: %.4f\" % (epoch, num_epochs, loss.item()))\n",
    "    \n",
    "    # Update parameters\n",
    "    optimizer.step()                                "
   ]
  },
  {
   "cell_type": "code",
   "execution_count": null,
   "id": "abeae909",
   "metadata": {},
   "outputs": [],
   "source": [
    "prediction = scaler.inverse_transform(output.detach().numpy())\n",
    "prediction"
   ]
  },
  {
   "cell_type": "code",
   "execution_count": null,
   "id": "f330aef5",
   "metadata": {},
   "outputs": [],
   "source": [
    "def calculate_prediction_error(predicted, actual):\n",
    "    return abs(predicted - actual)/actual"
   ]
  },
  {
   "cell_type": "code",
   "execution_count": null,
   "id": "67614732",
   "metadata": {},
   "outputs": [],
   "source": [
    "actual = np.concatenate( (label_list[:, :, 0], label_list[:, :, 1], label_list[:, :, 2], label_list[:, :, 3]), axis = 1)\n",
    "actual = scaler.inverse_transform(actual)\n",
    "actual"
   ]
  },
  {
   "cell_type": "code",
   "execution_count": null,
   "id": "92f812db",
   "metadata": {},
   "outputs": [],
   "source": [
    "error = calculate_prediction_error(prediction, actual)\n",
    "error"
   ]
  },
  {
   "cell_type": "code",
   "execution_count": null,
   "id": "2b8af0f1",
   "metadata": {},
   "outputs": [],
   "source": []
  }
 ],
 "metadata": {
  "kernelspec": {
   "display_name": "Python 3 (ipykernel)",
   "language": "python",
   "name": "python3"
  },
  "language_info": {
   "codemirror_mode": {
    "name": "ipython",
    "version": 3
   },
   "file_extension": ".py",
   "mimetype": "text/x-python",
   "name": "python",
   "nbconvert_exporter": "python",
   "pygments_lexer": "ipython3",
   "version": "3.8.8"
  }
 },
 "nbformat": 4,
 "nbformat_minor": 5
}
