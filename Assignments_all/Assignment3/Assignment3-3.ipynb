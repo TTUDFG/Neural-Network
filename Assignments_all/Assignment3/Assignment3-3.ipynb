{
 "cells": [
  {
   "cell_type": "code",
   "execution_count": 2,
   "id": "51e303c2",
   "metadata": {},
   "outputs": [],
   "source": [
    "import pandas as pd\n",
    "import torch.nn as nn\n",
    "import torch\n",
    "import numpy as np\n",
    "import torch.optim as optim\n",
    "from torch.utils.data import Dataset\n",
    "from torch.utils.data import DataLoader\n",
    "from torch.autograd import Variable\n",
    "import os\n",
    "from sklearn.preprocessing import MinMaxScaler"
   ]
  },
  {
   "cell_type": "code",
   "execution_count": 3,
   "id": "ccb1b193",
   "metadata": {},
   "outputs": [
    {
     "data": {
      "text/html": [
       "<div>\n",
       "<style scoped>\n",
       "    .dataframe tbody tr th:only-of-type {\n",
       "        vertical-align: middle;\n",
       "    }\n",
       "\n",
       "    .dataframe tbody tr th {\n",
       "        vertical-align: top;\n",
       "    }\n",
       "\n",
       "    .dataframe thead th {\n",
       "        text-align: right;\n",
       "    }\n",
       "</style>\n",
       "<table border=\"1\" class=\"dataframe\">\n",
       "  <thead>\n",
       "    <tr style=\"text-align: right;\">\n",
       "      <th></th>\n",
       "      <th></th>\n",
       "      <th>Date</th>\n",
       "      <th>Close</th>\n",
       "      <th>Open</th>\n",
       "      <th>High</th>\n",
       "      <th>Low</th>\n",
       "    </tr>\n",
       "  </thead>\n",
       "  <tbody>\n",
       "    <tr>\n",
       "      <th>0</th>\n",
       "      <td>0</td>\n",
       "      <td>1960-01-04</td>\n",
       "      <td>59.910000</td>\n",
       "      <td>59.910000</td>\n",
       "      <td>59.910000</td>\n",
       "      <td>59.910000</td>\n",
       "    </tr>\n",
       "    <tr>\n",
       "      <th>1</th>\n",
       "      <td>1</td>\n",
       "      <td>1960-01-05</td>\n",
       "      <td>60.389999</td>\n",
       "      <td>60.389999</td>\n",
       "      <td>60.389999</td>\n",
       "      <td>60.389999</td>\n",
       "    </tr>\n",
       "    <tr>\n",
       "      <th>2</th>\n",
       "      <td>2</td>\n",
       "      <td>1960-01-06</td>\n",
       "      <td>60.130001</td>\n",
       "      <td>60.130001</td>\n",
       "      <td>60.130001</td>\n",
       "      <td>60.130001</td>\n",
       "    </tr>\n",
       "    <tr>\n",
       "      <th>3</th>\n",
       "      <td>3</td>\n",
       "      <td>1960-01-07</td>\n",
       "      <td>59.689999</td>\n",
       "      <td>59.689999</td>\n",
       "      <td>59.689999</td>\n",
       "      <td>59.689999</td>\n",
       "    </tr>\n",
       "    <tr>\n",
       "      <th>4</th>\n",
       "      <td>4</td>\n",
       "      <td>1960-01-08</td>\n",
       "      <td>59.500000</td>\n",
       "      <td>59.500000</td>\n",
       "      <td>59.500000</td>\n",
       "      <td>59.500000</td>\n",
       "    </tr>\n",
       "    <tr>\n",
       "      <th>...</th>\n",
       "      <td>...</td>\n",
       "      <td>...</td>\n",
       "      <td>...</td>\n",
       "      <td>...</td>\n",
       "      <td>...</td>\n",
       "      <td>...</td>\n",
       "    </tr>\n",
       "    <tr>\n",
       "      <th>15671</th>\n",
       "      <td>15671</td>\n",
       "      <td>2022-02-11</td>\n",
       "      <td>4418.640000</td>\n",
       "      <td>4506.270000</td>\n",
       "      <td>4526.330000</td>\n",
       "      <td>4401.410000</td>\n",
       "    </tr>\n",
       "    <tr>\n",
       "      <th>15672</th>\n",
       "      <td>15672</td>\n",
       "      <td>2022-02-14</td>\n",
       "      <td>4401.670000</td>\n",
       "      <td>4412.610000</td>\n",
       "      <td>4426.220000</td>\n",
       "      <td>4364.840000</td>\n",
       "    </tr>\n",
       "    <tr>\n",
       "      <th>15673</th>\n",
       "      <td>15673</td>\n",
       "      <td>2022-02-15</td>\n",
       "      <td>4471.070000</td>\n",
       "      <td>4429.280000</td>\n",
       "      <td>4472.770000</td>\n",
       "      <td>4429.280000</td>\n",
       "    </tr>\n",
       "    <tr>\n",
       "      <th>15674</th>\n",
       "      <td>15674</td>\n",
       "      <td>2022-02-16</td>\n",
       "      <td>4475.010000</td>\n",
       "      <td>4455.750000</td>\n",
       "      <td>4489.550000</td>\n",
       "      <td>4429.680000</td>\n",
       "    </tr>\n",
       "    <tr>\n",
       "      <th>15675</th>\n",
       "      <td>15675</td>\n",
       "      <td>2022-02-17</td>\n",
       "      <td>4380.260000</td>\n",
       "      <td>4456.060000</td>\n",
       "      <td>4456.060000</td>\n",
       "      <td>4373.810000</td>\n",
       "    </tr>\n",
       "  </tbody>\n",
       "</table>\n",
       "<p>15676 rows × 6 columns</p>\n",
       "</div>"
      ],
      "text/plain": [
       "                   Date        Close         Open         High          Low\n",
       "0          0 1960-01-04    59.910000    59.910000    59.910000    59.910000\n",
       "1          1 1960-01-05    60.389999    60.389999    60.389999    60.389999\n",
       "2          2 1960-01-06    60.130001    60.130001    60.130001    60.130001\n",
       "3          3 1960-01-07    59.689999    59.689999    59.689999    59.689999\n",
       "4          4 1960-01-08    59.500000    59.500000    59.500000    59.500000\n",
       "...      ...        ...          ...          ...          ...          ...\n",
       "15671  15671 2022-02-11  4418.640000  4506.270000  4526.330000  4401.410000\n",
       "15672  15672 2022-02-14  4401.670000  4412.610000  4426.220000  4364.840000\n",
       "15673  15673 2022-02-15  4471.070000  4429.280000  4472.770000  4429.280000\n",
       "15674  15674 2022-02-16  4475.010000  4455.750000  4489.550000  4429.680000\n",
       "15675  15675 2022-02-17  4380.260000  4456.060000  4456.060000  4373.810000\n",
       "\n",
       "[15676 rows x 6 columns]"
      ]
     },
     "execution_count": 3,
     "metadata": {},
     "output_type": "execute_result"
    }
   ],
   "source": [
    "# data\n",
    "# data.to_csv('data.csv')\n",
    "data = pd.read_csv('data.csv')\n",
    "data = data.drop(['PE','Ratio'], axis=1)\n",
    "data['Date'] = pd.to_datetime(data['Date'], format='%Y-%m-%d')\n",
    "# price['Date'] = price['Date'].dt.strftime('%m/%d/%Y')\n",
    "data.columns = ['', 'Date', 'Close', 'Open', 'High', 'Low']\n",
    "data"
   ]
  },
  {
   "cell_type": "code",
   "execution_count": 4,
   "id": "f14d3393",
   "metadata": {},
   "outputs": [
    {
     "data": {
      "text/plain": [
       "array([[0.00162509, 0.01246953, 0.01243302, 0.01253337],\n",
       "       [0.00172626, 0.01256944, 0.01253263, 0.01263379],\n",
       "       [0.00167146, 0.01251532, 0.01247868, 0.01257939],\n",
       "       ...,\n",
       "       [0.93139433, 0.92190046, 0.92822634, 0.92661986],\n",
       "       [0.93222479, 0.92740987, 0.93170866, 0.92670354],\n",
       "       [0.91225371, 0.92747439, 0.92475854, 0.91501536]])"
      ]
     },
     "execution_count": 4,
     "metadata": {},
     "output_type": "execute_result"
    }
   ],
   "source": [
    "dataset = data[['Close', 'Open', 'High', 'Low']].values\n",
    "scaler = MinMaxScaler(feature_range = (0, 1))\n",
    "dataset = scaler.fit_transform(dataset)\n",
    "dataset"
   ]
  },
  {
   "cell_type": "code",
   "execution_count": 5,
   "id": "cb821047",
   "metadata": {},
   "outputs": [
    {
     "name": "stdout",
     "output_type": "stream",
     "text": [
      "real_list:  (15493, 180, 4)\n",
      "label_list:  (15493, 1, 4)\n"
     ]
    }
   ],
   "source": [
    "seq_len = 180\n",
    "input_size = 4\n",
    "output_size = 4\n",
    "\n",
    "real_list = []\n",
    "label_list = []\n",
    "for i in range(dataset.shape[0] - seq_len - output_size + 1):\n",
    "    real_list.append(dataset[i: i + seq_len, ])\n",
    "    label_list.append(dataset[i + seq_len: i + seq_len + output_size, 0])\n",
    "real_list = np.array(real_list)\n",
    "label_list = np.array(label_list)\n",
    "label_list = np.reshape(label_list, (label_list.shape[0], 1, label_list.shape[1]))\n",
    "print(\"real_list: \" , real_list.shape)\n",
    "print(\"label_list: \" , label_list.shape)"
   ]
  },
  {
   "cell_type": "code",
   "execution_count": 6,
   "id": "79f2d920",
   "metadata": {},
   "outputs": [],
   "source": [
    "class SP500_Dataset(Dataset):\n",
    "    def __init__(self, dataset, label_list):\n",
    "        self.dataset = dataset\n",
    "        self.label_list = label_list\n",
    "    def __len__(self):\n",
    "        return len(self.label_list)\n",
    "    def __getitem__(self, idx):\n",
    "        data = self.dataset[idx]\n",
    "        label = self.label_list[idx]\n",
    "        return {\n",
    "            'data': torch.from_numpy(data).float(),\n",
    "            'label': torch.from_numpy(label).float()\n",
    "        }"
   ]
  },
  {
   "cell_type": "code",
   "execution_count": 7,
   "id": "a187e127",
   "metadata": {},
   "outputs": [],
   "source": [
    "class self_made_RNN(nn.Module):\n",
    "    # implement RNN from scratch rather than using nn.RNN\n",
    "    def __init__(self, input_size, hidden_size, output_size):\n",
    "        super(RNN, self).__init__(input_size, hidden_size, output_size)\n",
    "        \n",
    "        self.hidden_size = hidden_size\n",
    "        self.i2h = nn.Linear(input_size + hidden_size, hidden_size)\n",
    "        self.i2o = nn.Linear(input_size + hidden_size, output_size)\n",
    "        self.softmax = nn.LogSoftmax(dim=1)\n",
    "        \n",
    "    def forward(self, input_tensor, hidden_tensor):\n",
    "        combined = torch.cat((input_tensor, hidden_tensor), 1)\n",
    "        \n",
    "        hidden = self.i2h(combined)\n",
    "        output = self.i2o(combined)\n",
    "        output = self.softmax(output)\n",
    "        return output, hidden\n",
    "    \n",
    "    def init_hidden(self):\n",
    "        return torch.zeros(1, self.hidden_size)\n",
    "\n",
    "class RNN(self_made_RNN):\n",
    "    def __init__(self, input_size, output_size, hidden_size, num_layers):\n",
    "        super(RNN, self).__init__(input_size, hidden_size, output_size)\n",
    "        self.hidden_size = hidden_size\n",
    "        self.num_layers = num_layers\n",
    "        \n",
    "        self.rnn = self_made_RNN.RNN(input_size = input_size, hidden_size = hidden_size, output_size = output_size)\n",
    "        self.linear = self_made_RNN.Linear(hidden_size, output_size)\n",
    "    \n",
    "#     def forward(self, x):\n",
    "#         batch_size = x.size(0)\n",
    "#         hidden = self.init_hidden(batch_size)\n",
    "#         res, hidden = self.rnn(x, hidden)\n",
    "#         res = self.linear(res)\n",
    "#         return res[:, -1, :], hidden\n",
    "        \n",
    "#     def init_hidden(self, batch_size):\n",
    "#         # This method generates the first hidden state of zeros which we'll use in the forward pass\n",
    "#         # We'll send the tensor holding the hidden state to the device we specified earlier as well\n",
    "#         hidden = torch.zeros(self.num_layers, batch_size, self.hidden_size)\n",
    "#         return hidden"
   ]
  },
  {
   "cell_type": "code",
   "execution_count": 8,
   "id": "54cb6d0a",
   "metadata": {},
   "outputs": [],
   "source": [
    "hidden_size = 16\n",
    "num_layers = 1\n",
    "learning_rate = 0.001\n",
    "num_epochs = 100"
   ]
  },
  {
   "cell_type": "code",
   "execution_count": 9,
   "id": "e6d43f1a",
   "metadata": {},
   "outputs": [],
   "source": [
    "train_dataset = SP500_Dataset(dataset = real_list, label_list = label_list)\n",
    "train_loader = DataLoader(dataset = train_dataset, shuffle=False)"
   ]
  },
  {
   "cell_type": "code",
   "execution_count": null,
   "id": "a9b16f33",
   "metadata": {},
   "outputs": [],
   "source": [
    "# self_made_RNN_model = self_made_RNN(input_size, , hidden_size, output_size, )\n",
    "model = RNN(input_size, output_size, hidden_size, num_layers)\n",
    "optimizer = torch.optim.Adam(model.parameters(), lr=learning_rate)\n",
    "criterion = nn.MSELoss()\n",
    "\n",
    "for epoch in range(num_epochs):\n",
    "    # make training sets in torch\n",
    "    inputs = Variable(torch.from_numpy(real_list).float())\n",
    "    labels = Variable(torch.from_numpy(label_list).float())\n",
    "    \n",
    "    # zero the parameter (weight) gradients\n",
    "    optimizer.zero_grad()\n",
    "\n",
    "    # Perform forward pass\n",
    "    output, hidden = model(inputs)   \n",
    "    \n",
    "    # Compute loss\n",
    "    loss = criterion(output.reshape(-1), labels.view(-1))\n",
    "#     loss_all_1 += [loss.item()]\n",
    "       \n",
    "    # Backward pass\n",
    "    loss.backward(retain_graph=True)\n",
    "       \n",
    "    #loss for validation\n",
    "#     inputs_val = torch.from_numpy(X_val).float()\n",
    "#     labels_val = torch.from_numpy(y_val).float()\n",
    "#     output_val, hidden_val = rnn(inputs_val)\n",
    "#     loss_val = criterion(output_val.reshape(-1), labels_val.view(-1))\n",
    "#     loss_all_1_val += [loss_val.item()]\n",
    "    \n",
    "    if (epoch % 10 == 0 or epoch == num_epochs - 1):\n",
    "        print(\"[%d/%d] Loss: %.4f\" % (epoch, num_epochs, loss.item()))\n",
    "    \n",
    "    # Update parameters\n",
    "    optimizer.step()                                "
   ]
  },
  {
   "cell_type": "code",
   "execution_count": null,
   "id": "abeae909",
   "metadata": {},
   "outputs": [],
   "source": [
    "prediction = scaler.inverse_transform(output.detach().numpy())\n",
    "prediction"
   ]
  },
  {
   "cell_type": "code",
   "execution_count": 69,
   "id": "f330aef5",
   "metadata": {},
   "outputs": [],
   "source": [
    "def calculate_prediction_error(predicted, actual):\n",
    "    return abs(predicted - actual)/actual"
   ]
  },
  {
   "cell_type": "code",
   "execution_count": 95,
   "id": "67614732",
   "metadata": {},
   "outputs": [
    {
     "data": {
      "text/plain": [
       "array([[5.38600010e+01, 1.83294453e+00, 2.40709486e+00, 2.17624430e+00],\n",
       "       [5.40099980e+01, 2.40004635e+00, 2.19380890e+00, 1.71278587e+00],\n",
       "       [5.45700000e+01, 2.18738494e+00, 1.72660987e+00, 8.66467638e-01],\n",
       "       ...,\n",
       "       [4.50408000e+03, 4.42179865e+03, 4.41754908e+03, 4.45210215e+03],\n",
       "       [4.41864000e+03, 4.40461350e+03, 4.48803534e+03, 4.45607178e+03],\n",
       "       [4.40167000e+03, 4.47489337e+03, 4.49203701e+03, 4.36060921e+03]])"
      ]
     },
     "execution_count": 95,
     "metadata": {},
     "output_type": "execute_result"
    }
   ],
   "source": [
    "actual = np.concatenate( (label_list[:, :, 0], label_list[:, :, 1], label_list[:, :, 2], label_list[:, :, 3]), axis = 1)\n",
    "actual = scaler.inverse_transform(actual)\n",
    "actual"
   ]
  },
  {
   "cell_type": "code",
   "execution_count": 96,
   "id": "92f812db",
   "metadata": {},
   "outputs": [
    {
     "name": "stderr",
     "output_type": "stream",
     "text": [
      "/Users/hejianan/opt/anaconda3/envs/NN/lib/python3.7/site-packages/ipykernel_launcher.py:2: RuntimeWarning: divide by zero encountered in true_divide\n",
      "  \n"
     ]
    },
    {
     "data": {
      "text/plain": [
       "array([[ 0.86138901,  9.49888244, 18.31121745, 18.60610496],\n",
       "       [ 0.87318213,  7.64918496, 20.28396935, 23.78554308],\n",
       "       [ 0.87989396,  8.48521777, 25.69380642, 46.39075072],\n",
       "       ...,\n",
       "       [ 0.15162531,  0.23078889,  0.1833056 ,  0.13858449],\n",
       "       [ 0.13786828,  0.22832272,  0.19535311,  0.14025461],\n",
       "       [ 0.13970557,  0.24146963,  0.19964308,  0.12748459]])"
      ]
     },
     "execution_count": 96,
     "metadata": {},
     "output_type": "execute_result"
    }
   ],
   "source": [
    "error = calculate_prediction_error(prediction, actual)\n",
    "error"
   ]
  },
  {
   "cell_type": "code",
   "execution_count": null,
   "id": "2b8af0f1",
   "metadata": {},
   "outputs": [],
   "source": []
  }
 ],
 "metadata": {
  "kernelspec": {
   "display_name": "Python 3 (ipykernel)",
   "language": "python",
   "name": "python3"
  },
  "language_info": {
   "codemirror_mode": {
    "name": "ipython",
    "version": 3
   },
   "file_extension": ".py",
   "mimetype": "text/x-python",
   "name": "python",
   "nbconvert_exporter": "python",
   "pygments_lexer": "ipython3",
   "version": "3.8.8"
  }
 },
 "nbformat": 4,
 "nbformat_minor": 5
}
