{
 "cells": [
  {
   "cell_type": "code",
   "execution_count": 154,
   "id": "59c10236",
   "metadata": {},
   "outputs": [],
   "source": [
    "import pandas as pd\n",
    "import numpy as np\n",
    "import matplotlib.pyplot as plt\n",
    "import torch.nn as nn\n",
    "import torch\n",
    "import torch.optim as optim\n",
    "from torch.utils.data import Dataset\n",
    "from torch.utils.data import DataLoader\n",
    "from torch.autograd import Variable\n",
    "from sklearn.preprocessing import MinMaxScaler\n",
    "import torch.nn.functional as F\n",
    "from scipy.signal import argrelextrema\n",
    "import os\n",
    "from PIL import Image\n",
    "from skimage.io import imread\n",
    "from skimage.transform import rescale, resize, downscale_local_mean\n",
    "from sklearn.model_selection import train_test_split\n",
    "import random \n",
    "from sklearn.metrics import accuracy_score\n",
    "from skimage import color"
   ]
  },
  {
   "cell_type": "code",
   "execution_count": 155,
   "id": "28e93408",
   "metadata": {},
   "outputs": [
    {
     "data": {
      "text/html": [
       "<div>\n",
       "<style scoped>\n",
       "    .dataframe tbody tr th:only-of-type {\n",
       "        vertical-align: middle;\n",
       "    }\n",
       "\n",
       "    .dataframe tbody tr th {\n",
       "        vertical-align: top;\n",
       "    }\n",
       "\n",
       "    .dataframe thead th {\n",
       "        text-align: right;\n",
       "    }\n",
       "</style>\n",
       "<table border=\"1\" class=\"dataframe\">\n",
       "  <thead>\n",
       "    <tr style=\"text-align: right;\">\n",
       "      <th></th>\n",
       "      <th>Date</th>\n",
       "      <th>Close</th>\n",
       "      <th>Open</th>\n",
       "      <th>High</th>\n",
       "      <th>Low</th>\n",
       "      <th>PE</th>\n",
       "    </tr>\n",
       "  </thead>\n",
       "  <tbody>\n",
       "    <tr>\n",
       "      <th>0</th>\n",
       "      <td>1960-01-04</td>\n",
       "      <td>59.910000</td>\n",
       "      <td>59.910000</td>\n",
       "      <td>59.910000</td>\n",
       "      <td>59.910000</td>\n",
       "      <td>18.34</td>\n",
       "    </tr>\n",
       "    <tr>\n",
       "      <th>1</th>\n",
       "      <td>1960-01-05</td>\n",
       "      <td>60.389999</td>\n",
       "      <td>60.389999</td>\n",
       "      <td>60.389999</td>\n",
       "      <td>60.389999</td>\n",
       "      <td>18.34</td>\n",
       "    </tr>\n",
       "    <tr>\n",
       "      <th>2</th>\n",
       "      <td>1960-01-06</td>\n",
       "      <td>60.130001</td>\n",
       "      <td>60.130001</td>\n",
       "      <td>60.130001</td>\n",
       "      <td>60.130001</td>\n",
       "      <td>18.34</td>\n",
       "    </tr>\n",
       "    <tr>\n",
       "      <th>3</th>\n",
       "      <td>1960-01-07</td>\n",
       "      <td>59.689999</td>\n",
       "      <td>59.689999</td>\n",
       "      <td>59.689999</td>\n",
       "      <td>59.689999</td>\n",
       "      <td>18.34</td>\n",
       "    </tr>\n",
       "    <tr>\n",
       "      <th>4</th>\n",
       "      <td>1960-01-08</td>\n",
       "      <td>59.500000</td>\n",
       "      <td>59.500000</td>\n",
       "      <td>59.500000</td>\n",
       "      <td>59.500000</td>\n",
       "      <td>18.34</td>\n",
       "    </tr>\n",
       "    <tr>\n",
       "      <th>...</th>\n",
       "      <td>...</td>\n",
       "      <td>...</td>\n",
       "      <td>...</td>\n",
       "      <td>...</td>\n",
       "      <td>...</td>\n",
       "      <td>...</td>\n",
       "    </tr>\n",
       "    <tr>\n",
       "      <th>15350</th>\n",
       "      <td>2020-12-24</td>\n",
       "      <td>3703.060000</td>\n",
       "      <td>3694.030000</td>\n",
       "      <td>3703.820000</td>\n",
       "      <td>3689.320000</td>\n",
       "      <td>33.77</td>\n",
       "    </tr>\n",
       "    <tr>\n",
       "      <th>15351</th>\n",
       "      <td>2020-12-28</td>\n",
       "      <td>3735.360000</td>\n",
       "      <td>3723.030000</td>\n",
       "      <td>3740.510000</td>\n",
       "      <td>3723.030000</td>\n",
       "      <td>33.77</td>\n",
       "    </tr>\n",
       "    <tr>\n",
       "      <th>15352</th>\n",
       "      <td>2020-12-29</td>\n",
       "      <td>3727.040000</td>\n",
       "      <td>3750.010000</td>\n",
       "      <td>3756.120000</td>\n",
       "      <td>3723.310000</td>\n",
       "      <td>33.77</td>\n",
       "    </tr>\n",
       "    <tr>\n",
       "      <th>15353</th>\n",
       "      <td>2020-12-30</td>\n",
       "      <td>3732.040000</td>\n",
       "      <td>3736.190000</td>\n",
       "      <td>3744.630000</td>\n",
       "      <td>3730.210000</td>\n",
       "      <td>33.77</td>\n",
       "    </tr>\n",
       "    <tr>\n",
       "      <th>15354</th>\n",
       "      <td>2020-12-31</td>\n",
       "      <td>3756.070000</td>\n",
       "      <td>3733.270000</td>\n",
       "      <td>3760.200000</td>\n",
       "      <td>3726.880000</td>\n",
       "      <td>33.77</td>\n",
       "    </tr>\n",
       "  </tbody>\n",
       "</table>\n",
       "<p>15355 rows × 6 columns</p>\n",
       "</div>"
      ],
      "text/plain": [
       "            Date        Close         Open         High          Low     PE\n",
       "0     1960-01-04    59.910000    59.910000    59.910000    59.910000  18.34\n",
       "1     1960-01-05    60.389999    60.389999    60.389999    60.389999  18.34\n",
       "2     1960-01-06    60.130001    60.130001    60.130001    60.130001  18.34\n",
       "3     1960-01-07    59.689999    59.689999    59.689999    59.689999  18.34\n",
       "4     1960-01-08    59.500000    59.500000    59.500000    59.500000  18.34\n",
       "...          ...          ...          ...          ...          ...    ...\n",
       "15350 2020-12-24  3703.060000  3694.030000  3703.820000  3689.320000  33.77\n",
       "15351 2020-12-28  3735.360000  3723.030000  3740.510000  3723.030000  33.77\n",
       "15352 2020-12-29  3727.040000  3750.010000  3756.120000  3723.310000  33.77\n",
       "15353 2020-12-30  3732.040000  3736.190000  3744.630000  3730.210000  33.77\n",
       "15354 2020-12-31  3756.070000  3733.270000  3760.200000  3726.880000  33.77\n",
       "\n",
       "[15355 rows x 6 columns]"
      ]
     },
     "execution_count": 155,
     "metadata": {},
     "output_type": "execute_result"
    }
   ],
   "source": [
    "data = pd.read_csv('data.csv')\n",
    "data['Date'] = pd.to_datetime(data['Date'], format='%Y-%m-%d')\n",
    "data"
   ]
  },
  {
   "cell_type": "code",
   "execution_count": 156,
   "id": "056a2f24",
   "metadata": {},
   "outputs": [
    {
     "data": {
      "text/plain": [
       "array([[  59.91    ,   18.34    ],\n",
       "       [  60.389999,   18.34    ],\n",
       "       [  60.130001,   18.34    ],\n",
       "       ...,\n",
       "       [3727.04    ,   33.77    ],\n",
       "       [3732.04    ,   33.77    ],\n",
       "       [3756.07    ,   33.77    ]])"
      ]
     },
     "execution_count": 156,
     "metadata": {},
     "output_type": "execute_result"
    }
   ],
   "source": [
    "step2_data = data[['Close','PE']].values\n",
    "step2_data"
   ]
  },
  {
   "cell_type": "code",
   "execution_count": 157,
   "id": "00ed27f0",
   "metadata": {},
   "outputs": [
    {
     "data": {
      "text/plain": [
       "array(['1960-01-04T00:00:00.000000000', '1960-01-05T00:00:00.000000000',\n",
       "       '1960-01-06T00:00:00.000000000', ...,\n",
       "       '2020-12-29T00:00:00.000000000', '2020-12-30T00:00:00.000000000',\n",
       "       '2020-12-31T00:00:00.000000000'], dtype='datetime64[ns]')"
      ]
     },
     "execution_count": 157,
     "metadata": {},
     "output_type": "execute_result"
    }
   ],
   "source": [
    "step2_date_data = data['Date'].values\n",
    "step2_date_data"
   ]
  },
  {
   "cell_type": "code",
   "execution_count": 158,
   "id": "8103a00c",
   "metadata": {},
   "outputs": [
    {
     "data": {
      "text/plain": [
       "array([[  59.91    ,   18.34    ,    0.      ],\n",
       "       [  60.389999,   18.34    ,    0.      ],\n",
       "       [  60.130001,   18.34    ,    0.      ],\n",
       "       ...,\n",
       "       [3727.04    ,   33.77    ,    0.      ],\n",
       "       [3732.04    ,   33.77    ,    0.      ],\n",
       "       [3756.07    ,   33.77    ,    0.      ]])"
      ]
     },
     "execution_count": 158,
     "metadata": {},
     "output_type": "execute_result"
    }
   ],
   "source": [
    "step2_data_corr = np.append(step2_data, np.zeros([len(step2_data),1]),1)\n",
    "step2_data_corr"
   ]
  },
  {
   "cell_type": "code",
   "execution_count": 159,
   "id": "6fa0e3c1",
   "metadata": {},
   "outputs": [
    {
     "name": "stderr",
     "output_type": "stream",
     "text": [
      "/Users/hejianan/opt/anaconda3/envs/NN/lib/python3.7/site-packages/numpy/lib/function_base.py:2691: RuntimeWarning: invalid value encountered in true_divide\n",
      "  c /= stddev[:, None]\n",
      "/Users/hejianan/opt/anaconda3/envs/NN/lib/python3.7/site-packages/numpy/lib/function_base.py:2692: RuntimeWarning: invalid value encountered in true_divide\n",
      "  c /= stddev[None, :]\n"
     ]
    },
    {
     "data": {
      "text/plain": [
       "array([[5.99100000e+01, 1.83400000e+01, 0.00000000e+00],\n",
       "       [6.03899990e+01, 1.83400000e+01, 0.00000000e+00],\n",
       "       [6.01300010e+01, 1.83400000e+01, 0.00000000e+00],\n",
       "       ...,\n",
       "       [3.72704000e+03, 3.37700000e+01, 8.45074514e-01],\n",
       "       [3.73204000e+03, 3.37700000e+01, 8.23732279e-01],\n",
       "       [3.75607000e+03, 3.37700000e+01, 7.82146873e-01]])"
      ]
     },
     "execution_count": 159,
     "metadata": {},
     "output_type": "execute_result"
    }
   ],
   "source": [
    "window_size = 28\n",
    "corr_array = []\n",
    "corr_date_array = []\n",
    "for i in range(step2_data.shape[0]-window_size + 1):\n",
    "    x = step2_data_corr[i:i+window_size, 0]\n",
    "    y = step2_data_corr[i:i+window_size, 1]\n",
    "    corr = np.corrcoef(x, y)\n",
    "    corr_array.append(corr[1, 0])\n",
    "    corr_date_array.append(step2_date_data[i+window_size - 1])\n",
    "    step2_data_corr[i + window_size - 1][2] = corr[1, 0]\n",
    "step2_data_corr"
   ]
  },
  {
   "cell_type": "code",
   "execution_count": 160,
   "id": "8b69e678",
   "metadata": {},
   "outputs": [
    {
     "data": {
      "text/plain": [
       "<module 'matplotlib.pyplot' from '/Users/hejianan/opt/anaconda3/envs/NN/lib/python3.7/site-packages/matplotlib/pyplot.py'>"
      ]
     },
     "execution_count": 160,
     "metadata": {},
     "output_type": "execute_result"
    },
    {
     "data": {
      "image/png": "[encoded data removed]",
      "text/plain": [
       "<Figure size 1000x600 with 1 Axes>"
      ]
     },
     "metadata": {
      "needs_background": "light"
     },
     "output_type": "display_data"
    }
   ],
   "source": [
    "plt.figure(figsize=[10,6], dpi=100)\n",
    "plt.plot(corr_date_array, corr_array, label = 'Corr')\n",
    "plt.xlabel(\"Date\")\n",
    "plt.ylabel(\"Correlation Coefficient\")\n",
    "plt.title(\"Correlation Coefficient Between S&P500 and Schiller P/E\")\n",
    "plt"
   ]
  },
  {
   "cell_type": "code",
   "execution_count": 161,
   "id": "ab61aa19",
   "metadata": {},
   "outputs": [
    {
     "name": "stdout",
     "output_type": "stream",
     "text": [
      "67.900002\n",
      "70.32\n",
      "1.0356406175069037\n",
      "538\n",
      "67.599998\n",
      "67.900002\n",
      "1.0402367171667666\n",
      "576\n",
      "52.32\n",
      "57.830002\n",
      "1.1497876803178049\n",
      "647\n",
      "71.07\n",
      "72.959999\n",
      "1.1803645420880733\n",
      "937\n",
      "73.620003\n",
      "76.220001\n",
      "1.2220508409693693\n",
      "1012\n",
      "79.440002\n",
      "83.739998\n",
      "1.2881990483670092\n",
      "1143\n",
      "87.849998\n",
      "87.849998\n",
      "1.2881990483670092\n",
      "1559\n",
      "87.860001\n",
      "92.080002\n",
      "1.3500724971541065\n",
      "1588\n",
      "91.139999\n",
      "92.599998\n",
      "1.3716997137154376\n",
      "1983\n",
      "87.720001\n",
      "93.290001\n",
      "1.4587992043480813\n",
      "2079\n",
      "96.449997\n",
      "100.129997\n",
      "1.5144589372561181\n",
      "2126\n",
      "100.139999\n",
      "105.849998\n",
      "1.6008136317201502\n",
      "2330\n",
      "82.790001\n",
      "89.540001\n",
      "1.731330504332714\n",
      "2727\n",
      "103.940002\n",
      "108.940002\n",
      "1.8146155952995544\n",
      "3043\n",
      "105.809998\n",
      "111.660004\n",
      "1.9149417678810527\n",
      "3154\n",
      "104.360001\n",
      "104.360001\n",
      "1.9149417678810527\n",
      "3466\n",
      "65.010002\n",
      "72.610001\n",
      "2.1388081741757983\n",
      "3758\n",
      "87.07\n",
      "97.0\n",
      "2.382731054267284\n",
      "4015\n",
      "94.889999\n",
      "103.849998\n",
      "2.607720706374919\n",
      "4666\n",
      "127.370003\n",
      "129.649994\n",
      "2.6544002981234445\n",
      "5401\n",
      "147.820007\n",
      "165.429993\n",
      "2.9706223917156174\n",
      "6182\n",
      "313.559998\n",
      "314.929993\n",
      "2.9836015276050705\n",
      "6964\n",
      "250.830002\n",
      "271.429993\n",
      "3.2286366674455222\n",
      "7150\n",
      "313.73999\n",
      "330.200012\n",
      "3.3980235236641385\n",
      "7788\n",
      "555.109985\n",
      "572.679993\n",
      "3.505575724323917\n",
      "8981\n",
      "626.650024\n",
      "666.580017\n",
      "3.7289501897707162\n",
      "9220\n",
      "737.650024\n",
      "841.880005\n",
      "4.255851016428519\n",
      "9407\n",
      "927.690002\n",
      "1032.079956\n",
      "4.7347481597393575\n",
      "9598\n",
      "1373.859985\n",
      "1454.819946\n",
      "5.013761327414752\n",
      "10194\n",
      "1080.170044\n",
      "1154.089966\n",
      "5.35687105195097\n",
      "10619\n",
      "1006.289978\n",
      "1006.289978\n",
      "5.35687105195097\n",
      "10688\n",
      "1402.43\n",
      "1472.34\n",
      "5.623906736613941\n",
      "13349\n",
      "2461.43\n",
      "2559.36\n",
      "5.847658452777556\n",
      "14547\n",
      "2783.3\n",
      "2900.45\n",
      "6.093788294240168\n",
      "14923\n",
      "2966.15\n",
      "3108.46\n",
      "6.386156182631962\n",
      "15074\n",
      "3197.52\n",
      "3385.51\n",
      "6.7616138813400175\n",
      "15262\n"
     ]
    }
   ],
   "source": [
    "# assuming you start with $1 million.\n",
    "money = 1\n",
    "money_full = []\n",
    "trade_full = []\n",
    "# if you haven't sell the stock, you cannot buy the new stock\n",
    "lastselltime = 0\n",
    "for i in range(window_size-1, step2_data_corr.shape[0]):\n",
    "    corr_temp = step2_data_corr[i,2]\n",
    "    price_temp = step2_data_corr[(i-window_size+1):(i+1), 0]\n",
    "    if corr_temp > 0.9 and (i-lastselltime > window_size):\n",
    "        # sell at this point\n",
    "        # buy at the local minia in this window interval (nsample interval)\n",
    "        buy_price = min(price_temp)\n",
    "        # in case of the overflow\n",
    "        if buy_price > 0:           \n",
    "            sell_price = price_temp[len(price_temp)-1]\n",
    "            money = sell_price/buy_price*money\n",
    "            lastselltime = i\n",
    "            print(buy_price)\n",
    "            print(sell_price)\n",
    "            print(money)\n",
    "            print(i)  \n",
    "            money_full.append(money)\n",
    "            trade_full.append(i)\n",
    "            "
   ]
  },
  {
   "cell_type": "code",
   "execution_count": 162,
   "id": "152a85b1",
   "metadata": {},
   "outputs": [
    {
     "data": {
      "text/plain": [
       "Text(0, 0.5, 'Money (millions)')"
      ]
     },
     "execution_count": 162,
     "metadata": {},
     "output_type": "execute_result"
    },
    {
     "data": {
      "image/png": "[encoded data removed]",
      "text/plain": [
       "<Figure size 1080x360 with 1 Axes>"
      ]
     },
     "metadata": {
      "needs_background": "light"
     },
     "output_type": "display_data"
    }
   ],
   "source": [
    "plt.figure(figsize=(15, 5));\n",
    "plt.plot(data.Date.loc[trade_full],\n",
    "         money_full, color='grey', label='Close')\n",
    "plt.title('Money left at the end of trading activity (using correlation algorithm)')\n",
    "plt.xlabel('Date')\n",
    "plt.ylabel('Money (millions)')"
   ]
  },
  {
   "cell_type": "code",
   "execution_count": 163,
   "id": "b8c806ed",
   "metadata": {},
   "outputs": [
    {
     "data": {
      "text/plain": [
       "6.7616138813400175"
      ]
     },
     "execution_count": 163,
     "metadata": {},
     "output_type": "execute_result"
    }
   ],
   "source": [
    "money"
   ]
  },
  {
   "cell_type": "code",
   "execution_count": 164,
   "id": "5cd00e17",
   "metadata": {},
   "outputs": [
    {
     "data": {
      "text/plain": [
       "array([[0.00208161],\n",
       "       [0.0022112 ],\n",
       "       [0.002141  ],\n",
       "       ...,\n",
       "       [0.99216225],\n",
       "       [0.99351219],\n",
       "       [1.        ]])"
      ]
     },
     "execution_count": 164,
     "metadata": {},
     "output_type": "execute_result"
    }
   ],
   "source": [
    "dataset = data[['Close']].values\n",
    "scaler = MinMaxScaler(feature_range = (0, 1))\n",
    "dataset = scaler.fit_transform(dataset)\n",
    "# dataset = np.append(dataset, step2_data_corr[:, 2], 1)\n",
    "dataset"
   ]
  },
  {
   "cell_type": "code",
   "execution_count": 165,
   "id": "da867717",
   "metadata": {},
   "outputs": [
    {
     "data": {
      "text/plain": [
       "17"
      ]
     },
     "execution_count": 165,
     "metadata": {},
     "output_type": "execute_result"
    }
   ],
   "source": [
    "sellSignalIndex = []\n",
    "prev = 0\n",
    "for i in range(window_size-1, len(dataset)):\n",
    "    if step2_data_corr[i][2] > 0.9 and i >= prev+window_size//3 and \\\n",
    "    dataset[i][0] == max(dataset[(i-window_size+1):(i+1), 0]) and \\\n",
    "    dataset[i][0] > dataset[i+1][0]:\n",
    "        sellSignalIndex.append(i)\n",
    "        prev = i\n",
    "len(sellSignalIndex)"
   ]
  },
  {
   "cell_type": "code",
   "execution_count": 166,
   "id": "376248db",
   "metadata": {},
   "outputs": [],
   "source": [
    "# function to plot the sp500 price data and save the plot \n",
    "def drawPlotAndSave(data,index,folder, window_size):\n",
    "    closedpriceInPrevDays = []\n",
    "    xaxis = np.arange(0, window_size)\n",
    "    for x in reversed(range(0, window_size)):\n",
    "        closedpriceInPrevDays.append(data[index-x][0])        \n",
    "    # plotting\n",
    "    name = \"day%i\" %index\n",
    "    plt.axis('off')\n",
    "    plt.plot(closedpriceInPrevDays, color =\"black\") \n",
    "    name = name + '.png'\n",
    "    figure = plt.gcf()\n",
    "    figure.set_size_inches(8, 8)\n",
    "    plt.savefig(folder + name, bbox_inches='tight', pad_inches=0, dpi = 100)\n",
    "    plt.clf()    "
   ]
  },
  {
   "cell_type": "code",
   "execution_count": 167,
   "id": "9b658fa3",
   "metadata": {},
   "outputs": [
    {
     "data": {
      "text/plain": [
       "<Figure size 576x576 with 0 Axes>"
      ]
     },
     "metadata": {},
     "output_type": "display_data"
    }
   ],
   "source": [
    "#Create the CandaidateTrain folder manually, then run this to create all possible selling signals\n",
    "folder = 'CandidateTrainSell/'\n",
    "if not os.path.exists(folder ):\n",
    "    os.makedirs(folder )\n",
    "\n",
    "for x in sellSignalIndex:\n",
    "    drawPlotAndSave(dataset,x,folder, window_size)"
   ]
  },
  {
   "cell_type": "code",
   "execution_count": 168,
   "id": "aa406747",
   "metadata": {},
   "outputs": [
    {
     "data": {
      "text/plain": [
       "56"
      ]
     },
     "execution_count": 168,
     "metadata": {},
     "output_type": "execute_result"
    }
   ],
   "source": [
    "# not sell \n",
    "holdSignalIndex = []\n",
    "prev = 0\n",
    "for i in range(window_size-1,len(dataset)):\n",
    "    if step2_data_corr[i][2] < -0.5  and i >= prev+window_size//3 and \\\n",
    "    dataset[i][0] < max(dataset[(i-window_size+1):(i+1), 0]):\n",
    "        holdSignalIndex.append(i)\n",
    "        prev = i\n",
    "#Now, we have a candidate not selling signal list\n",
    "len(holdSignalIndex)"
   ]
  },
  {
   "cell_type": "code",
   "execution_count": 169,
   "id": "e576faae",
   "metadata": {},
   "outputs": [
    {
     "data": {
      "text/plain": [
       "<Figure size 576x576 with 0 Axes>"
      ]
     },
     "metadata": {},
     "output_type": "display_data"
    }
   ],
   "source": [
    "#Create the CandaidateTrain folder manually, then run this to create all possible selling signals\n",
    "folder = 'CandidateTrainHold/'\n",
    "if not os.path.exists(folder ):\n",
    "    os.makedirs(folder )\n",
    "\n",
    "for x in holdSignalIndex:\n",
    "    drawPlotAndSave(dataset,x,folder, window_size)"
   ]
  },
  {
   "cell_type": "code",
   "execution_count": 170,
   "id": "3d8be95b",
   "metadata": {},
   "outputs": [
    {
     "data": {
      "text/plain": [
       "(73, 180, 180)"
      ]
     },
     "execution_count": 170,
     "metadata": {},
     "output_type": "execute_result"
    }
   ],
   "source": [
    "# loading training images\n",
    "train_img = []\n",
    "for img_name in (sellSignalIndex):\n",
    "    # defining the image path\n",
    "    image_path = 'CandidateTrainSell/day' + str(img_name) + '.png'\n",
    "    # reading the image\n",
    "    img = imread(image_path, as_gray=True)\n",
    "    \n",
    "    img_resize = resize(img, (180, 180),\n",
    "                       anti_aliasing=True)\n",
    "    # converting the type of pixel to float 32\n",
    "    img_resize = img_resize.astype('float32')\n",
    "      \n",
    "    # appending the image into the list\n",
    "    train_img.append(img_resize)\n",
    "train_y = np.repeat(1, len(sellSignalIndex))\n",
    "for img_name in (holdSignalIndex):\n",
    "    # defining the image path\n",
    "    image_path = 'CandidateTrainHold/day' + str(img_name) + '.png'\n",
    "    # reading the image\n",
    "    img = imread(image_path, as_gray=True)\n",
    "    \n",
    "    img_resize = resize(img, (180, 180),\n",
    "                       anti_aliasing=True)\n",
    "    # converting the type of pixel to float 32\n",
    "    img_resize = img_resize.astype('float32')\n",
    "    # converting the type of pixel to float 32\n",
    "    img = img.astype('float32')\n",
    "    # appending the image into the list\n",
    "    train_img.append(img_resize)\n",
    "train_y = np.append(train_y, np.repeat(0, len(holdSignalIndex))  )  \n",
    "    \n",
    "# converting the list to numpy array\n",
    "train_x = np.array(train_img)\n",
    "# defining the target\n",
    "\n",
    "train_x.shape"
   ]
  },
  {
   "cell_type": "code",
   "execution_count": 171,
   "id": "0e1202e6",
   "metadata": {},
   "outputs": [
    {
     "data": {
      "text/plain": [
       "(((58, 180, 180), (58,)), ((15, 180, 180), (15,)))"
      ]
     },
     "execution_count": 171,
     "metadata": {},
     "output_type": "execute_result"
    }
   ],
   "source": [
    "# create validation set\n",
    "train_x, val_x, train_y, val_y = train_test_split(train_x, train_y, test_size = 0.20, random_state=0)\n",
    "(train_x.shape, train_y.shape), (val_x.shape, val_y.shape)"
   ]
  },
  {
   "cell_type": "code",
   "execution_count": 172,
   "id": "4bfa0cf4",
   "metadata": {},
   "outputs": [
    {
     "data": {
      "text/plain": [
       "(torch.Size([58, 1, 180, 180]), torch.Size([58]))"
      ]
     },
     "execution_count": 172,
     "metadata": {},
     "output_type": "execute_result"
    }
   ],
   "source": [
    "# converting training images into torch format\n",
    "train_x = train_x.reshape(train_x.shape[0], 1, train_x.shape[1], train_x.shape[2])\n",
    "train_x  = torch.from_numpy(train_x)\n",
    "\n",
    "# converting the target into torch format\n",
    "train_y = train_y.astype(int);\n",
    "train_y = torch.from_numpy(train_y)\n",
    "\n",
    "# shape of training data\n",
    "train_x.shape, train_y.shape"
   ]
  },
  {
   "cell_type": "code",
   "execution_count": 173,
   "id": "b01c2a35",
   "metadata": {},
   "outputs": [
    {
     "data": {
      "text/plain": [
       "(torch.Size([15, 1, 180, 180]), torch.Size([15]))"
      ]
     },
     "execution_count": 173,
     "metadata": {},
     "output_type": "execute_result"
    }
   ],
   "source": [
    "# converting validation images into torch format\n",
    "val_x = val_x.reshape(val_x.shape[0], 1, val_x.shape[1], val_x.shape[2])\n",
    "val_x  = torch.from_numpy(val_x)\n",
    "\n",
    "# converting the target into torch format\n",
    "val_y = val_y.astype(int);\n",
    "val_y = torch.from_numpy(val_y)\n",
    "\n",
    "# shape of validation data\n",
    "val_x.shape, val_y.shape"
   ]
  },
  {
   "cell_type": "code",
   "execution_count": 174,
   "id": "b5b66fae",
   "metadata": {},
   "outputs": [],
   "source": [
    "class Net(nn.Module):   \n",
    "    def __init__(self):\n",
    "        super(Net, self).__init__()\n",
    "\n",
    "        self.cnn_layers = nn.Sequential(\n",
    "            # Defining a 2D convolution layer\n",
    "            nn.Conv2d(1, 4, kernel_size=3, stride=1, padding=1),\n",
    "            nn.BatchNorm2d(4),\n",
    "            nn.ReLU(inplace=True),\n",
    "            nn.MaxPool2d(kernel_size=2, stride=2),\n",
    "            # Defining another 2D convolution layer\n",
    "            nn.Conv2d(4, 4, kernel_size=3, stride=1, padding=1),\n",
    "            nn.BatchNorm2d(4),\n",
    "            nn.ReLU(inplace=True),\n",
    "            nn.MaxPool2d(kernel_size=2, stride=2),\n",
    "        )\n",
    "\n",
    "        self.linear_layers = nn.Sequential(\n",
    "            nn.Linear(8100, 2)\n",
    "        )\n",
    "\n",
    "    # Defining the forward pass    \n",
    "    def forward(self, x):\n",
    "        x = self.cnn_layers(x)\n",
    "        x = x.view(x.size(0), -1)      \n",
    "        x = self.linear_layers(x)\n",
    "        return x"
   ]
  },
  {
   "cell_type": "code",
   "execution_count": 175,
   "id": "91dad7fe",
   "metadata": {},
   "outputs": [
    {
     "name": "stdout",
     "output_type": "stream",
     "text": [
      "Net(\n",
      "  (cnn_layers): Sequential(\n",
      "    (0): Conv2d(1, 4, kernel_size=(3, 3), stride=(1, 1), padding=(1, 1))\n",
      "    (1): BatchNorm2d(4, eps=1e-05, momentum=0.1, affine=True, track_running_stats=True)\n",
      "    (2): ReLU(inplace=True)\n",
      "    (3): MaxPool2d(kernel_size=2, stride=2, padding=0, dilation=1, ceil_mode=False)\n",
      "    (4): Conv2d(4, 4, kernel_size=(3, 3), stride=(1, 1), padding=(1, 1))\n",
      "    (5): BatchNorm2d(4, eps=1e-05, momentum=0.1, affine=True, track_running_stats=True)\n",
      "    (6): ReLU(inplace=True)\n",
      "    (7): MaxPool2d(kernel_size=2, stride=2, padding=0, dilation=1, ceil_mode=False)\n",
      "  )\n",
      "  (linear_layers): Sequential(\n",
      "    (0): Linear(in_features=8100, out_features=2, bias=True)\n",
      "  )\n",
      ")\n"
     ]
    }
   ],
   "source": [
    "#set seed for reproducible results\n",
    "torch.manual_seed(1)\n",
    "np.random.seed(1)\n",
    "random.seed(1)\n",
    "# defining the model\n",
    "model = Net()\n",
    "# defining the optimizer\n",
    "optimizer = torch.optim.Adam(model.parameters(), lr=0.001)\n",
    "# defining the loss function\n",
    "criterion = nn.CrossEntropyLoss()\n",
    "# checking if GPU is available\n",
    "if torch.cuda.is_available():\n",
    "    model = model.cuda()\n",
    "    criterion = criterion.cuda()\n",
    "print(model)"
   ]
  },
  {
   "cell_type": "code",
   "execution_count": 176,
   "id": "56380458",
   "metadata": {},
   "outputs": [],
   "source": [
    "def train(epoch):\n",
    "    model.train()\n",
    "    tr_loss = 0\n",
    "    # getting the training set\n",
    "    x_train, y_train = Variable(train_x), Variable(train_y)\n",
    "    # getting the validation set\n",
    "    x_val, y_val = Variable(val_x), Variable(val_y)\n",
    "    # converting the data into GPU format\n",
    "    if torch.cuda.is_available():\n",
    "        x_train = x_train.cuda()\n",
    "        y_train = y_train.cuda()\n",
    "        x_val = x_val.cuda()\n",
    "        y_val = y_val.cuda()\n",
    "\n",
    "    # clearing the Gradients of the model parameters\n",
    "    optimizer.zero_grad()\n",
    "    \n",
    "    # prediction for training and validation set\n",
    "    output_train = model(x_train)\n",
    "    output_val = model(x_val)\n",
    "\n",
    "    # computing the training and validation loss\n",
    "    loss_train = criterion(output_train, y_train)\n",
    "    loss_val = criterion(output_val, y_val)\n",
    "    train_losses.append(loss_train)\n",
    "    val_losses.append(loss_val)\n",
    "\n",
    "    # computing the updated weights of all the model parameters\n",
    "    loss_train.backward()\n",
    "    optimizer.step()\n",
    "    tr_loss = loss_train.item()\n",
    "    if epoch%5 == 0:\n",
    "        # printing the validation loss\n",
    "        print('Epoch : ',epoch+1, '\\t', 'loss :', loss_val)\n",
    "    # prediction for training set\n",
    "    with torch.no_grad():\n",
    "        output = model(train_x)\n",
    "\n",
    "    softmax = torch.exp(output)\n",
    "    prob = list(softmax.numpy())\n",
    "    predictions = np.argmax(prob, axis=1)\n",
    "\n",
    "    # accuracy on training set\n",
    "    train_accuracy.append(accuracy_score(train_y, predictions))\n",
    "    \n",
    "    # prediction for validation set\n",
    "    with torch.no_grad():\n",
    "        output = model(val_x)\n",
    "\n",
    "    softmax = torch.exp(output)\n",
    "    prob = list(softmax.numpy())\n",
    "    predictions = np.argmax(prob, axis=1)\n",
    "\n",
    "    # accuracy on validation set\n",
    "    val_accuracy.append(accuracy_score(val_y, predictions))\n",
    "    \n",
    "    countHold = sum(np.logical_and(predictions == 0, val_y.numpy() == 0))\n",
    "    countSell = sum(np.logical_and(predictions == 1, val_y.numpy() == 1))\n",
    "    \n",
    "    accuracyhold = countHold/sum(val_y == 0)\n",
    "    accuracysell = countSell/sum(val_y == 1)\n",
    "    if epoch%5 == 0:\n",
    "        print('Epoch: ', epoch+1,  '| Hold/Sell accuracy: %.2f/%.2f' %(accuracyhold, accuracysell))"
   ]
  },
  {
   "cell_type": "code",
   "execution_count": 177,
   "id": "5cf0766f",
   "metadata": {},
   "outputs": [
    {
     "name": "stdout",
     "output_type": "stream",
     "text": [
      "Number of train samples:  58\n",
      "Number of test samples:  15\n",
      "Epoch :  1 \t loss : tensor(1.0509, grad_fn=<NllLossBackward0>)\n",
      "Epoch:  1 | Hold/Sell accuracy: 1.00/0.00\n",
      "Epoch :  6 \t loss : tensor(0.5352, grad_fn=<NllLossBackward0>)\n",
      "Epoch:  6 | Hold/Sell accuracy: 0.79/1.00\n",
      "Epoch :  11 \t loss : tensor(0.4669, grad_fn=<NllLossBackward0>)\n",
      "Epoch:  11 | Hold/Sell accuracy: 0.93/1.00\n",
      "Epoch :  16 \t loss : tensor(0.2590, grad_fn=<NllLossBackward0>)\n",
      "Epoch:  16 | Hold/Sell accuracy: 0.93/1.00\n",
      "Epoch :  21 \t loss : tensor(0.1658, grad_fn=<NllLossBackward0>)\n",
      "Epoch:  21 | Hold/Sell accuracy: 0.93/1.00\n",
      "Epoch :  26 \t loss : tensor(0.1163, grad_fn=<NllLossBackward0>)\n",
      "Epoch:  26 | Hold/Sell accuracy: 0.93/1.00\n",
      "Epoch :  31 \t loss : tensor(0.0905, grad_fn=<NllLossBackward0>)\n",
      "Epoch:  31 | Hold/Sell accuracy: 0.93/1.00\n",
      "Epoch :  36 \t loss : tensor(0.0775, grad_fn=<NllLossBackward0>)\n",
      "Epoch:  36 | Hold/Sell accuracy: 0.93/1.00\n"
     ]
    }
   ],
   "source": [
    "#set seed for reproducible results \n",
    "torch.manual_seed(1)\n",
    "np.random.seed(1)\n",
    "random.seed(1)\n",
    "# defining the number of epochs\n",
    "n_epochs = 40\n",
    "# empty list to store training losses\n",
    "train_losses = []\n",
    "# empty list to store validation losses\n",
    "val_losses = []\n",
    "# empty list to store training accuracy\n",
    "train_accuracy = []\n",
    "# empty list to store validation accuracy\n",
    "val_accuracy = []\n",
    "# training the model\n",
    "\n",
    "print(\"Number of train samples: \", len(train_y))\n",
    "print(\"Number of test samples: \", len(val_y))\n",
    "for epoch in range(n_epochs):\n",
    "    train(epoch)"
   ]
  },
  {
   "cell_type": "code",
   "execution_count": 178,
   "id": "456eab50",
   "metadata": {},
   "outputs": [
    {
     "data": {
      "text/plain": [
       "1.0"
      ]
     },
     "execution_count": 178,
     "metadata": {},
     "output_type": "execute_result"
    }
   ],
   "source": [
    "# prediction for training set\n",
    "with torch.no_grad():\n",
    "    output = model(train_x)\n",
    "    \n",
    "softmax = torch.exp(output)\n",
    "prob = list(softmax.numpy())\n",
    "predictions = np.argmax(prob, axis=1)\n",
    "\n",
    "# accuracy on training set\n",
    "accuracy_score(train_y, predictions)"
   ]
  },
  {
   "cell_type": "code",
   "execution_count": 179,
   "id": "392e4da8",
   "metadata": {},
   "outputs": [
    {
     "data": {
      "text/plain": [
       "tensor([0, 0, 0, 0, 0, 1, 0, 0, 1, 0, 0, 1, 0, 0, 1, 0, 1, 0, 1, 0, 0, 0, 0, 0,\n",
       "        1, 0, 0, 0, 0, 0, 0, 1, 1, 1, 1, 0, 0, 1, 1, 0, 0, 0, 0, 0, 0, 0, 0, 1,\n",
       "        0, 1, 0, 0, 1, 0, 0, 0, 0, 0])"
      ]
     },
     "execution_count": 179,
     "metadata": {},
     "output_type": "execute_result"
    }
   ],
   "source": [
    "torch.argmax(output, dim = 1) "
   ]
  },
  {
   "cell_type": "code",
   "execution_count": 180,
   "id": "b10854b9",
   "metadata": {},
   "outputs": [
    {
     "data": {
      "text/plain": [
       "0.9333333333333333"
      ]
     },
     "execution_count": 180,
     "metadata": {},
     "output_type": "execute_result"
    }
   ],
   "source": [
    "# prediction for validation set\n",
    "with torch.no_grad():\n",
    "    output = model(val_x)\n",
    "\n",
    "softmax = torch.exp(output)\n",
    "prob = list(softmax.numpy())\n",
    "predictions = np.argmax(prob, axis=1)\n",
    "\n",
    "# accuracy on validation set\n",
    "accuracy_score(val_y, predictions)"
   ]
  },
  {
   "cell_type": "code",
   "execution_count": 181,
   "id": "f98dc087",
   "metadata": {},
   "outputs": [
    {
     "data": {
      "text/plain": [
       "tensor([0, 0, 0, 0, 0, 0, 0, 0, 1, 1, 0, 0, 0, 0, 0])"
      ]
     },
     "execution_count": 181,
     "metadata": {},
     "output_type": "execute_result"
    }
   ],
   "source": [
    "torch.argmax(output, dim = 1) "
   ]
  },
  {
   "cell_type": "code",
   "execution_count": 182,
   "id": "12b9764f",
   "metadata": {},
   "outputs": [
    {
     "data": {
      "text/plain": [
       "tensor([0, 0, 0, 0, 0, 0, 0, 0, 0, 1, 0, 0, 0, 0, 0])"
      ]
     },
     "execution_count": 182,
     "metadata": {},
     "output_type": "execute_result"
    }
   ],
   "source": [
    "val_y"
   ]
  },
  {
   "cell_type": "code",
   "execution_count": 217,
   "id": "7101fdd1",
   "metadata": {},
   "outputs": [],
   "source": [
    "# general settings\n",
    "# The number of expected features in the input x is 3\n",
    "input_size = 2\n",
    "# output_size = 4 as we want to predict the next one, two, three, and four trading data \n",
    "output_size = 4"
   ]
  },
  {
   "cell_type": "code",
   "execution_count": 218,
   "id": "6b26cacc",
   "metadata": {},
   "outputs": [
    {
     "data": {
      "text/plain": [
       "array([[0.00208161],\n",
       "       [0.0022112 ],\n",
       "       [0.002141  ],\n",
       "       ...,\n",
       "       [0.99216225],\n",
       "       [0.99351219],\n",
       "       [1.        ]])"
      ]
     },
     "execution_count": 218,
     "metadata": {},
     "output_type": "execute_result"
    }
   ],
   "source": [
    "# number of timepoint and number of feature\n",
    "n_rows, n_cols = dataset.shape\n",
    "dataset"
   ]
  },
  {
   "cell_type": "code",
   "execution_count": 219,
   "id": "d5acaad9",
   "metadata": {},
   "outputs": [],
   "source": [
    "#Creating a data structure with 180 timesteps and 4 output\n",
    "X_full = []\n",
    "y_full = []\n",
    "date_full = []\n",
    "for i in range( n_rows - window_size - output_size +1):\n",
    "    X_full.append(dataset[i:i+window_size, ])\n",
    "    y_full.append(dataset[i+window_size: i+ window_size + output_size, 0])\n",
    "#     date_full.append(date_data[i+window_size])\n",
    "    \n",
    "X_full, y_full, date_full = np.array(X_full), np.array(y_full), np.array(date_full)\n",
    "y_full = np.reshape(y_full, (y_full.shape[0], 1, y_full.shape[1]))"
   ]
  },
  {
   "cell_type": "code",
   "execution_count": 220,
   "id": "67b870e1",
   "metadata": {},
   "outputs": [],
   "source": [
    "hidden_size = 16\n",
    "num_layers = 1\n",
    "num_epochs = 100\n",
    "learning_rate = 0.001"
   ]
  },
  {
   "cell_type": "code",
   "execution_count": 221,
   "id": "f29f1783",
   "metadata": {},
   "outputs": [],
   "source": [
    "class RNN(nn.Module):\n",
    "    def __init__(self, input_size, output_size, hidden_dim, n_layers):\n",
    "        super(RNN, self).__init__()\n",
    "\n",
    "        # Defining some parameters\n",
    "        self.hidden_dim = hidden_dim\n",
    "        self.n_layers = n_layers\n",
    "\n",
    "        #Defining the layers\n",
    "        # RNN Layer\n",
    "        self.rnn = nn.RNN(input_size, hidden_dim, n_layers, batch_first=True)   \n",
    "        # Fully connected layer\n",
    "        self.fc = nn.Linear(hidden_dim, output_size)\n",
    "    \n",
    "    def forward(self, x):\n",
    "        \n",
    "        batch_size = x.size(0)\n",
    "\n",
    "        # Initializing hidden state for first input using method defined below\n",
    "        hidden = self.init_hidden(batch_size)\n",
    "\n",
    "        # Passing in the input and hidden state into the model and obtaining outputs\n",
    "        out, hidden = self.rnn(x, hidden)\n",
    "        \n",
    "        # Reshaping the outputs such that it can be fit into the fully connected layer\n",
    "        out = self.fc(out)\n",
    "        #just want last time step output \n",
    "        return out[:, -1, :], hidden\n",
    "    \n",
    "    def init_hidden(self, batch_size):\n",
    "        # This method generates the first hidden state of zeros which we'll use in the forward pass\n",
    "        # We'll send the tensor holding the hidden state to the device we specified earlier as well\n",
    "        hidden = torch.zeros(self.n_layers, batch_size, self.hidden_dim)\n",
    "        return hidden"
   ]
  },
  {
   "cell_type": "code",
   "execution_count": 188,
   "id": "47336a34",
   "metadata": {},
   "outputs": [
    {
     "name": "stdout",
     "output_type": "stream",
     "text": [
      "0\n",
      "500\n",
      "1000\n",
      "1500\n",
      "2000\n",
      "2500\n",
      "3000\n",
      "3500\n",
      "4000\n",
      "4500\n",
      "5000\n",
      "5500\n",
      "6000\n",
      "6500\n",
      "7000\n",
      "7500\n",
      "8000\n",
      "8500\n",
      "9000\n",
      "9500\n",
      "10000\n",
      "10500\n",
      "11000\n",
      "11500\n",
      "12000\n",
      "12500\n",
      "13000\n",
      "13500\n",
      "14000\n",
      "14500\n",
      "15000\n"
     ]
    },
    {
     "data": {
      "text/plain": [
       "(15324, 180, 180)"
      ]
     },
     "execution_count": 188,
     "metadata": {},
     "output_type": "execute_result"
    },
    {
     "data": {
      "text/plain": [
       "<Figure size 576x576 with 0 Axes>"
      ]
     },
     "metadata": {},
     "output_type": "display_data"
    }
   ],
   "source": [
    "# loading images of the whole dataset\n",
    "all_img = []\n",
    "for i in range(X_full.shape[0]):  \n",
    "    if i%500 == 0:\n",
    "        print(i)\n",
    "    x = X_full[i,:, 0]\n",
    "    # function to plot the sp500 price data    \n",
    "    plt.axis('off')\n",
    "    plt.plot(x, color =\"black\") \n",
    "    figure = plt.gcf()\n",
    "    figure.set_size_inches(8, 8)\n",
    "    figure.canvas.draw()\n",
    "       \n",
    "    width, height = figure.get_size_inches() * figure.get_dpi()\n",
    "    mplimage = np.frombuffer(figure.canvas.tostring_rgb(), dtype='uint8').reshape(576, 576, 3)\n",
    "    gray_image = color.rgb2gray(mplimage)\n",
    "    img_resize = resize(gray_image, (180, 180),anti_aliasing=True)\n",
    "    img_resize = img_resize.astype('float32')\n",
    "    plt.clf()   \n",
    "    # appending the image into the list\n",
    "    all_img.append(img_resize)\n",
    "    \n",
    "# converting the list to numpy array\n",
    "all_x = np.array(all_img)\n",
    "# defining the target\n",
    "all_x.shape"
   ]
  },
  {
   "cell_type": "code",
   "execution_count": 194,
   "id": "9196f5f0",
   "metadata": {},
   "outputs": [
    {
     "data": {
      "text/plain": [
       "array([[0.00208161, 0.        ],\n",
       "       [0.0022112 , 0.        ],\n",
       "       [0.002141  , 0.        ],\n",
       "       ...,\n",
       "       [0.99216225, 0.        ],\n",
       "       [0.99351219, 0.        ],\n",
       "       [1.        , 0.        ]])"
      ]
     },
     "execution_count": 194,
     "metadata": {},
     "output_type": "execute_result"
    }
   ],
   "source": [
    "rnn_dataset = data[ ['Close']].values\n",
    "rnn_dataset = np.append(rnn_dataset, np.zeros([len(rnn_dataset),1]),1)\n",
    "sc = MinMaxScaler(feature_range = (0, 1))\n",
    "rnn_dataset = sc.fit_transform(rnn_dataset)\n",
    "rnn_dataset"
   ]
  },
  {
   "cell_type": "code",
   "execution_count": 196,
   "id": "9d5bff61",
   "metadata": {},
   "outputs": [
    {
     "data": {
      "text/plain": [
       "torch.Size([15324, 1, 180, 180])"
      ]
     },
     "execution_count": 196,
     "metadata": {},
     "output_type": "execute_result"
    }
   ],
   "source": [
    "all_x = all_x.reshape(all_x.shape[0], 1, all_x.shape[1], all_x.shape[2])\n",
    "all_x = torch.from_numpy(all_x)\n",
    "all_x.shape"
   ]
  },
  {
   "cell_type": "code",
   "execution_count": 192,
   "id": "27d255fb",
   "metadata": {},
   "outputs": [
    {
     "data": {
      "text/plain": [
       "array([1.5053277e-10, 4.1084841e-10, 1.5298207e-10, ..., 5.3231494e-04,\n",
       "       5.1465551e-05, 3.3200358e-05], dtype=float32)"
      ]
     },
     "execution_count": 192,
     "metadata": {},
     "output_type": "execute_result"
    }
   ],
   "source": [
    "# predict sell signal for whole dataset\n",
    "with torch.no_grad():\n",
    "    output = model(all_x)\n",
    "\n",
    "softmax = torch.exp(output)\n",
    "# if prob > 0.5 then sell signal\n",
    "# otherwise, hold \n",
    "prob = softmax.numpy()[:,1]/np.sum(softmax.numpy(), axis = 1) \n",
    "prob"
   ]
  },
  {
   "cell_type": "code",
   "execution_count": 193,
   "id": "dd47953a",
   "metadata": {},
   "outputs": [
    {
     "data": {
      "text/plain": [
       "(15324,)"
      ]
     },
     "execution_count": 193,
     "metadata": {},
     "output_type": "execute_result"
    }
   ],
   "source": [
    "prob.shape"
   ]
  },
  {
   "cell_type": "code",
   "execution_count": 197,
   "id": "b71b03af",
   "metadata": {},
   "outputs": [
    {
     "data": {
      "text/plain": [
       "array([[0.00208161, 0.        ],\n",
       "       [0.0022112 , 0.        ],\n",
       "       [0.002141  , 0.        ],\n",
       "       ...,\n",
       "       [0.99216225, 0.        ],\n",
       "       [0.99351219, 0.        ],\n",
       "       [1.        , 0.        ]])"
      ]
     },
     "execution_count": 197,
     "metadata": {},
     "output_type": "execute_result"
    }
   ],
   "source": [
    "for i in range(len(prob)):\n",
    "    rnn_dataset[i+ window_size, 1] = prob[i]\n",
    "rnn_dataset"
   ]
  },
  {
   "cell_type": "code",
   "execution_count": 230,
   "id": "02504907",
   "metadata": {},
   "outputs": [],
   "source": [
    "# Creating a data structure with 180 timesteps and 4 output\n",
    "X_full = []\n",
    "y_full = []\n",
    "date_full = []\n",
    "for i in range(window_size , n_rows - window_size - output_size +1):\n",
    "    X_full.append(rnn_dataset[i:i+window_size, ])\n",
    "    y_full.append(rnn_dataset[i+window_size: i+ window_size + output_size, 0])\n",
    "#     date_full.append(date_data[i+window_size])\n",
    "    \n",
    "X_full, y_full, date_full = np.array(X_full), np.array(y_full), np.array(date_full)\n",
    "y_full = np.reshape(y_full, (y_full.shape[0], 1, y_full.shape[1]))"
   ]
  },
  {
   "cell_type": "code",
   "execution_count": 231,
   "id": "a3027b63",
   "metadata": {},
   "outputs": [
    {
     "data": {
      "text/plain": [
       "(15296, 28, 2)"
      ]
     },
     "execution_count": 231,
     "metadata": {},
     "output_type": "execute_result"
    }
   ],
   "source": [
    "X_full.shape"
   ]
  },
  {
   "cell_type": "code",
   "execution_count": 232,
   "id": "b7bb90ad",
   "metadata": {},
   "outputs": [
    {
     "data": {
      "text/plain": [
       "(9716, 28, 2)"
      ]
     },
     "execution_count": 232,
     "metadata": {},
     "output_type": "execute_result"
    }
   ],
   "source": [
    "X_train = []; y_train = []; date_train = []\n",
    "X_val = []; y_val = []; date_val = []\n",
    "X_test = []; y_test = []; date_test = []\n",
    "for i in range(X_full.shape[0]):\n",
    "    if(i  %  253 >= 200):\n",
    "        X_test.append(X_full[i])\n",
    "        y_test.append(y_full[i])\n",
    "#         date_test.append(date_full[i])\n",
    "    elif (i % 253 < 160):\n",
    "        X_train.append(X_full[i])\n",
    "        y_train.append(y_full[i])\n",
    "#         date_train.append(date_full[i])\n",
    "    else:\n",
    "        X_val.append(X_full[i])\n",
    "        y_val.append(y_full[i])\n",
    "#         date_val.append(date_full[i])\n",
    "X_train, y_train, date_train = np.array(X_train), np.array(y_train), np.array(date_train) \n",
    "X_val, y_val, date_val = np.array(X_val), np.array(y_val), np.array(date_val) \n",
    "X_test, y_test, date_test = np.array(X_test), np.array(y_test), np.array(date_test)   \n",
    "X_train.shape"
   ]
  },
  {
   "cell_type": "code",
   "execution_count": 233,
   "id": "60e5ee80",
   "metadata": {},
   "outputs": [
    {
     "data": {
      "text/plain": [
       "((9716, 28, 2), (2400, 28, 2), (3180, 28, 2))"
      ]
     },
     "execution_count": 233,
     "metadata": {},
     "output_type": "execute_result"
    }
   ],
   "source": [
    "(X_train.shape, X_val.shape, X_test.shape)"
   ]
  },
  {
   "cell_type": "code",
   "execution_count": 234,
   "id": "0a76cccb",
   "metadata": {},
   "outputs": [],
   "source": [
    "out_temp = np.concatenate((y_train[:, 0, [0]], \n",
    "                           y_train[:, 0, [0]]), axis=1)\n",
    "price_train = sc.inverse_transform(out_temp)[:, [0]]\n",
    "out_temp = np.concatenate((y_val[:, 0, [0]], \n",
    "                           y_val[:, 0, [0]]), axis=1)\n",
    "price_val = sc.inverse_transform(out_temp)[:, [0]]\n",
    "out_temp = np.concatenate((y_test[:, 0, [0]], \n",
    "                           y_test[:, 0, [0]]), axis=1)\n",
    "price_test = sc.inverse_transform(out_temp)[:, [0]]"
   ]
  },
  {
   "cell_type": "code",
   "execution_count": 235,
   "id": "8f809adb",
   "metadata": {},
   "outputs": [
    {
     "data": {
      "text/plain": [
       "RNN(\n",
       "  (rnn): RNN(2, 16, batch_first=True)\n",
       "  (fc): Linear(in_features=16, out_features=4, bias=True)\n",
       ")"
      ]
     },
     "execution_count": 235,
     "metadata": {},
     "output_type": "execute_result"
    }
   ],
   "source": [
    "#set seed for reproducible results\n",
    "torch.manual_seed(1)\n",
    "np.random.seed(1)\n",
    "random.seed(1)\n",
    "rnn = RNN(input_size, output_size, hidden_size, num_layers)\n",
    "optimiser = torch.optim.Adam(rnn.parameters(), lr=learning_rate)\n",
    "criterion = nn.MSELoss()\n",
    "rnn"
   ]
  },
  {
   "cell_type": "code",
   "execution_count": 236,
   "id": "29081ed8",
   "metadata": {},
   "outputs": [
    {
     "name": "stdout",
     "output_type": "stream",
     "text": [
      "rnn.weight_ih_l0\n",
      "torch.Size([16, 2])\n",
      "rnn.weight_hh_l0\n",
      "torch.Size([16, 16])\n",
      "rnn.bias_ih_l0\n",
      "torch.Size([16])\n",
      "rnn.bias_hh_l0\n",
      "torch.Size([16])\n",
      "fc.weight\n",
      "torch.Size([4, 16])\n",
      "fc.bias\n",
      "torch.Size([4])\n"
     ]
    }
   ],
   "source": [
    "# display the weights (including bias) name and shape\n",
    "for name, param in rnn.named_parameters():\n",
    "    print(name)\n",
    "    print(param.data.shape)"
   ]
  },
  {
   "cell_type": "code",
   "execution_count": 237,
   "id": "9e64a6e0",
   "metadata": {},
   "outputs": [
    {
     "name": "stdout",
     "output_type": "stream",
     "text": [
      "Epoch  0 MSE:  0.09938383847475052\n",
      "Epoch  10 MSE:  0.0708649754524231\n",
      "Epoch  20 MSE:  0.055055003613233566\n",
      "Epoch  30 MSE:  0.048669200390577316\n",
      "Epoch  40 MSE:  0.04631318151950836\n",
      "Epoch  50 MSE:  0.0421084500849247\n",
      "Epoch  60 MSE:  0.03583168983459473\n",
      "Epoch  70 MSE:  0.022666895762085915\n",
      "Epoch  80 MSE:  0.012110323645174503\n",
      "Epoch  90 MSE:  0.00598042830824852\n"
     ]
    }
   ],
   "source": [
    "#set seed for reproducible results \n",
    "torch.manual_seed(1)\n",
    "np.random.seed(1)\n",
    "random.seed(1)\n",
    "loss_all_1 = []\n",
    "loss_all_1_val = []\n",
    "for epoch in range(num_epochs):\n",
    "    # make training sets in torch\n",
    "    inputs = Variable(torch.from_numpy(X_train).float())\n",
    "    labels = Variable(torch.from_numpy(y_train).float())\n",
    "    \n",
    "    # zero the parameter (weight) gradients\n",
    "    optimiser.zero_grad()\n",
    "\n",
    "    # Perform forward pass\n",
    "    output, hidden = rnn(inputs)   \n",
    "    \n",
    "    # Compute loss\n",
    "    loss = criterion(output.reshape(-1), labels.view(-1))\n",
    "    loss_all_1 += [loss.item()]\n",
    "       \n",
    "    # Backward pass\n",
    "    loss.backward(retain_graph=True)\n",
    "       \n",
    "    #loss for validation\n",
    "    inputs_val = torch.from_numpy(X_val).float()\n",
    "    labels_val = torch.from_numpy(y_val).float()\n",
    "    output_val, hidden_val = rnn(inputs_val)\n",
    "    loss_val = criterion(output_val.reshape(-1), labels_val.view(-1))\n",
    "    loss_all_1_val += [loss_val.item()]\n",
    "    \n",
    "    if (epoch % 10 == 0 ):\n",
    "        print(\"Epoch \", epoch, \"MSE: \", loss.item())\n",
    "    \n",
    "    # Update parameters\n",
    "    optimiser.step()                                \n",
    "\n"
   ]
  },
  {
   "cell_type": "code",
   "execution_count": 239,
   "id": "bef8b6bc",
   "metadata": {},
   "outputs": [
    {
     "data": {
      "text/plain": [
       "array([[  11.962161],\n",
       "       [  12.030875],\n",
       "       [  12.133036],\n",
       "       ...,\n",
       "       [2072.7087  ],\n",
       "       [2072.7615  ],\n",
       "       [2072.9104  ]], dtype=float32)"
      ]
     },
     "execution_count": 239,
     "metadata": {},
     "output_type": "execute_result"
    }
   ],
   "source": [
    "out_temp = np.concatenate((output.detach().numpy()[:, [0]], \n",
    "                           output.detach().numpy()[:, [0]]), axis=1)\n",
    "out_temp.shape\n",
    "predicted_price = sc.inverse_transform(out_temp)[:, [0]]\n",
    "predicted_price"
   ]
  },
  {
   "cell_type": "code",
   "execution_count": 240,
   "id": "58218538",
   "metadata": {},
   "outputs": [],
   "source": [
    "# compute prediction_error := (predicted_price - actual_price) / actual_price \n",
    "def prediction_error(target, pred):\n",
    "    error = abs(pred - target)/target\n",
    "    return error"
   ]
  },
  {
   "cell_type": "code",
   "execution_count": 241,
   "id": "28a2373f",
   "metadata": {},
   "outputs": [],
   "source": [
    "out_temp = np.concatenate( (y_train[:, :, 0], y_train[:, :, 0]), axis = 1)\n",
    "target_train = sc.inverse_transform(out_temp)[:, [0]]\n",
    "error_train_1 = prediction_error(target_train, predicted_price)"
   ]
  },
  {
   "cell_type": "code",
   "execution_count": 243,
   "id": "32a55d46",
   "metadata": {},
   "outputs": [
    {
     "data": {
      "text/plain": [
       "array([[  75.53317],\n",
       "       [  75.59218],\n",
       "       [  75.67657],\n",
       "       ...,\n",
       "       [2408.099  ],\n",
       "       [2403.8665 ],\n",
       "       [2402.1646 ]], dtype=float32)"
      ]
     },
     "execution_count": 243,
     "metadata": {},
     "output_type": "execute_result"
    }
   ],
   "source": [
    "# predict next two day\n",
    "train_inputs = Variable(torch.from_numpy(X_train).float())\n",
    "output_train, _ = rnn(train_inputs)\n",
    "out_temp = np.concatenate((output_train.detach().numpy()[:, [1]], \n",
    "                           output_train.detach().numpy()[:, [1]]), axis=1)\n",
    "predicted_price_train = sc.inverse_transform(out_temp)[:, [0]]\n",
    "out_temp = np.concatenate( (y_train[:, :, 1], y_train[:, :, 1]), axis = 1)\n",
    "target_train = sc.inverse_transform(out_temp)[:, [0]]\n",
    "error_train_2 = prediction_error(target_train, predicted_price_train)\n",
    "predicted_price_train"
   ]
  },
  {
   "cell_type": "code",
   "execution_count": 244,
   "id": "14929811",
   "metadata": {},
   "outputs": [
    {
     "data": {
      "text/plain": [
       "array([[ -84.42122],\n",
       "       [ -84.32353],\n",
       "       [ -84.18919],\n",
       "       ...,\n",
       "       [2581.742  ],\n",
       "       [2582.6357 ],\n",
       "       [2581.3486 ]], dtype=float32)"
      ]
     },
     "execution_count": 244,
     "metadata": {},
     "output_type": "execute_result"
    }
   ],
   "source": [
    "# predict next three day\n",
    "# train_inputs = Variable(torch.from_numpy(X_train).float())\n",
    "# output_train, _ = rnn(train_inputs)\n",
    "out_temp = np.concatenate((output_train.detach().numpy()[:, [2]], \n",
    "                           output_train.detach().numpy()[:, [2]]), axis=1)\n",
    "predicted_price_train = sc.inverse_transform(out_temp)[:, [0]]\n",
    "out_temp = np.concatenate( (y_train[:, :, 2], y_train[:, :, 2]), axis = 1)\n",
    "target_train = sc.inverse_transform(out_temp)[:, [0]]\n",
    "error_train_3 = prediction_error(target_train, predicted_price_train)\n",
    "predicted_price_train"
   ]
  },
  {
   "cell_type": "code",
   "execution_count": 245,
   "id": "4c11c38f",
   "metadata": {},
   "outputs": [
    {
     "data": {
      "text/plain": [
       "array([[ -89.79445],\n",
       "       [ -89.67383],\n",
       "       [ -89.53502],\n",
       "       ...,\n",
       "       [2810.4666 ],\n",
       "       [2808.315  ],\n",
       "       [2810.485  ]], dtype=float32)"
      ]
     },
     "execution_count": 245,
     "metadata": {},
     "output_type": "execute_result"
    }
   ],
   "source": [
    "# predict next four day\n",
    "# train_inputs = Variable(torch.from_numpy(X_train).float())\n",
    "# output_train, _ = rnn(train_inputs)\n",
    "out_temp = np.concatenate((output_train.detach().numpy()[:, [3]], \n",
    "                           output_train.detach().numpy()[:, [3]]), axis=1)\n",
    "predicted_price_train = sc.inverse_transform(out_temp)[:, [0]]\n",
    "out_temp = np.concatenate( (y_train[:, :, 3], y_train[:, :, 3]), axis = 1)\n",
    "target_train = sc.inverse_transform(out_temp)[:, [0]]\n",
    "error_train_4 = prediction_error(target_train, predicted_price_train)\n",
    "predicted_price_train"
   ]
  },
  {
   "cell_type": "code",
   "execution_count": 247,
   "id": "f54aa3a8",
   "metadata": {},
   "outputs": [
    {
     "data": {
      "text/plain": [
       "array([[ 100.26922],\n",
       "       [ 114.39604],\n",
       "       [  38.01881],\n",
       "       ...,\n",
       "       [2036.3113 ],\n",
       "       [2036.2747 ],\n",
       "       [2038.378  ]], dtype=float32)"
      ]
     },
     "execution_count": 247,
     "metadata": {},
     "output_type": "execute_result"
    }
   ],
   "source": [
    "# predict next one day\n",
    "test_inputs = Variable(torch.from_numpy(X_test).float())\n",
    "output_test, _ = rnn(test_inputs)\n",
    "out_temp = np.concatenate((output_test.detach().numpy()[:, [0]], \n",
    "                           output_test.detach().numpy()[:, [0]]), axis=1)\n",
    "predicted_price_test = sc.inverse_transform(out_temp)[:, [0]]\n",
    "predicted_price_test"
   ]
  },
  {
   "cell_type": "code",
   "execution_count": 250,
   "id": "cb0db8f1",
   "metadata": {},
   "outputs": [],
   "source": [
    "# #only display the result after 1980\n",
    "# myDatetime = np.datetime64(\"1980-01-01\")\n",
    "# date_test_partial = date_test[date_test>myDatetime]"
   ]
  },
  {
   "cell_type": "code",
   "execution_count": 252,
   "id": "e2129d89",
   "metadata": {},
   "outputs": [
    {
     "data": {
      "text/plain": [
       "array([[0.70496883],\n",
       "       [0.93990232],\n",
       "       [0.35713881],\n",
       "       ...,\n",
       "       [0.36066383],\n",
       "       [0.35463307],\n",
       "       [0.36251281]])"
      ]
     },
     "execution_count": 252,
     "metadata": {},
     "output_type": "execute_result"
    }
   ],
   "source": [
    "out_temp = np.concatenate( (y_test[:, :, 0], y_test[:, :, 0]), axis = 1)\n",
    "target_test = sc.inverse_transform(out_temp)[:, [0]]\n",
    "error_test = prediction_error(target_test, predicted_price_test)\n",
    "error_test"
   ]
  },
  {
   "cell_type": "code",
   "execution_count": 253,
   "id": "408dcbc0",
   "metadata": {},
   "outputs": [
    {
     "data": {
      "text/plain": [
       "array([[ 287.68903],\n",
       "       [ 225.66885],\n",
       "       [ 228.51614],\n",
       "       ...,\n",
       "       [2280.0527 ],\n",
       "       [2282.4731 ],\n",
       "       [2283.3867 ]], dtype=float32)"
      ]
     },
     "execution_count": 253,
     "metadata": {},
     "output_type": "execute_result"
    }
   ],
   "source": [
    "# predict next two day\n",
    "# test_inputs = Variable(torch.from_numpy(X_test).float())\n",
    "# output_test, _ = rnn(test_inputs)\n",
    "out_temp = np.concatenate((output_test.detach().numpy()[:, [1]], \n",
    "                           output_test.detach().numpy()[:, [1]]), axis=1)\n",
    "predicted_price_test = sc.inverse_transform(out_temp)[:, [0]]\n",
    "out_temp = np.concatenate( (y_test[:, :, 1], y_test[:, :, 1]), axis = 1)\n",
    "target_test = sc.inverse_transform(out_temp)[:, [0]]\n",
    "error_test = prediction_error(target_test, predicted_price_test)\n",
    "predicted_price_test"
   ]
  },
  {
   "cell_type": "code",
   "execution_count": 254,
   "id": "758d3906",
   "metadata": {},
   "outputs": [
    {
     "data": {
      "text/plain": [
       "array([[ -47.124645],\n",
       "       [  16.187492],\n",
       "       [ -59.73943 ],\n",
       "       ...,\n",
       "       [2450.469   ],\n",
       "       [2451.9905  ],\n",
       "       [2454.0002  ]], dtype=float32)"
      ]
     },
     "execution_count": 254,
     "metadata": {},
     "output_type": "execute_result"
    }
   ],
   "source": [
    "# predict next three day\n",
    "# test_inputs = Variable(torch.from_numpy(X_test).float())\n",
    "# output_test, _ = rnn(test_inputs)\n",
    "out_temp = np.concatenate((output_test.detach().numpy()[:, [2]], \n",
    "                           output_test.detach().numpy()[:, [2]]), axis=1)\n",
    "predicted_price_test = sc.inverse_transform(out_temp)[:, [0]]\n",
    "out_temp = np.concatenate( (y_test[:, :, 2], y_test[:, :, 2]), axis = 1)\n",
    "target_test = sc.inverse_transform(out_temp)[:, [0]]\n",
    "error_test = prediction_error(target_test, predicted_price_test)\n",
    "predicted_price_test"
   ]
  },
  {
   "cell_type": "code",
   "execution_count": 255,
   "id": "0b742be3",
   "metadata": {},
   "outputs": [
    {
     "data": {
      "text/plain": [
       "array([[  50.285072 ],\n",
       "       [   3.1325376],\n",
       "       [ -35.195576 ],\n",
       "       ...,\n",
       "       [2642.6309   ],\n",
       "       [2646.6182   ],\n",
       "       [2646.3882   ]], dtype=float32)"
      ]
     },
     "execution_count": 255,
     "metadata": {},
     "output_type": "execute_result"
    }
   ],
   "source": [
    "# predict next four day\n",
    "# test_inputs = Variable(torch.from_numpy(X_test).float())\n",
    "# output_test, _ = rnn(test_inputs)\n",
    "out_temp = np.concatenate((output_test.detach().numpy()[:, [3]], \n",
    "                           output_test.detach().numpy()[:, [3]]), axis=1)\n",
    "predicted_price_test = sc.inverse_transform(out_temp)[:, [0]]\n",
    "out_temp = np.concatenate( (y_test[:, :, 3], y_test[:, :, 3]), axis = 1)\n",
    "target_test = sc.inverse_transform(out_temp)[:, [0]]\n",
    "error_test = prediction_error(target_test, predicted_price_test)\n",
    "predicted_price_test"
   ]
  },
  {
   "cell_type": "code",
   "execution_count": 259,
   "id": "4d384131",
   "metadata": {},
   "outputs": [
    {
     "name": "stdout",
     "output_type": "stream",
     "text": [
      "54.169998\n",
      "56.84\n",
      "1.0492893132467902\n",
      "112\n",
      "55.299999\n",
      "58.36000099999999\n",
      "1.1073512925447246\n",
      "198\n",
      "67.870003\n",
      "71.849998\n",
      "1.1722879716777952\n",
      "423\n",
      "62.06999999999999\n",
      "65.620003\n",
      "1.239335270152422\n",
      "714\n",
      "65.470001\n",
      "69.720001\n",
      "1.3197870009863315\n",
      "777\n",
      "73.809998\n",
      "77.029999\n",
      "1.3773634212290606\n",
      "964\n",
      "81.32\n",
      "84.279999\n",
      "1.4274986198207307\n",
      "1137\n",
      "86.559998\n",
      "90.019997\n",
      "1.4845589699963526\n",
      "1390\n",
      "80.330002\n",
      "86.610001\n",
      "1.6006180838380044\n",
      "1727\n",
      "91.139999\n",
      "95.339996\n",
      "1.674379233980933\n",
      "1946\n",
      "88.32\n",
      "96.919998\n",
      "1.8374188406779162\n",
      "2035\n",
      "82.790001\n",
      "90.260002\n",
      "2.003206018012083\n",
      "2674\n",
      "91.150002\n",
      "97.510002\n",
      "2.142979907150965\n",
      "2714\n",
      "90.160004\n",
      "100.949997\n",
      "2.399443274181201\n",
      "2936\n",
      "103.059998\n",
      "111.089996\n",
      "2.5863977188415674\n",
      "3388\n",
      "70.699997\n",
      "82.209999\n",
      "3.007464821809929\n",
      "3731\n",
      "88.139999\n",
      "98.529999\n",
      "3.3619867171256432\n",
      "3968\n",
      "98.629997\n",
      "103.589996\n",
      "3.5310574994653856\n",
      "4076\n",
      "88.459999\n",
      "96.190002\n",
      "3.839616004694851\n",
      "4542\n",
      "96.239998\n",
      "104.730003\n",
      "4.178335453524633\n",
      "4614\n",
      "101.589996\n",
      "109.139999\n",
      "4.48886253740322\n",
      "4872\n",
      "151.039993\n",
      "164.279999\n",
      "4.882351478629494\n",
      "5805\n",
      "147.820007\n",
      "167.830002\n",
      "5.54326220822795\n",
      "6133\n",
      "163.679993\n",
      "180.610001\n",
      "6.116621675144575\n",
      "6249\n",
      "178.369995\n",
      "190.039993\n",
      "6.51680648602431\n",
      "6331\n",
      "234.55000299999998\n",
      "248.520004\n",
      "6.904953115579314\n",
      "6645\n",
      "242.169998\n",
      "274.079987\n",
      "7.814797356333084\n",
      "6750\n",
      "307.80999799999995\n",
      "331.380005\n",
      "8.413201662850614\n",
      "6895\n",
      "291.5899959999999\n",
      "307.76998899999995\n",
      "8.880040532084356\n",
      "7321\n",
      "377.390015\n",
      "420.440002\n",
      "9.893012826716223\n",
      "8002\n",
      "417.57998699999996\n",
      "432.570007\n",
      "10.248145890439252\n",
      "8236\n",
      "464.779999\n",
      "486.910004\n",
      "10.736100450196782\n",
      "8789\n",
      "504.92001300000004\n",
      "519.580017\n",
      "11.047815714975336\n",
      "8848\n",
      "557.140015\n",
      "584.409973\n",
      "11.588565728307476\n",
      "8941\n",
      "599.820007\n",
      "640.650024\n",
      "12.377404596918957\n",
      "9039\n",
      "697.26001\n",
      "743.950012\n",
      "13.206221734137188\n",
      "9231\n",
      "835.659973\n",
      "891.030029\n",
      "14.081253757440274\n",
      "9384\n",
      "919.72998\n",
      "995.690002\n",
      "15.244217201561934\n",
      "10885\n",
      "1059.050049\n",
      "1130.52002\n",
      "16.27297288911616\n",
      "11028\n",
      "1094.800049\n",
      "1177.23999\n",
      "17.49835000350222\n",
      "11244\n",
      "879.130005\n",
      "1010.47998\n",
      "20.112761776993292\n",
      "12429\n",
      "1094.599976\n",
      "1166.589966\n",
      "21.435544118437573\n",
      "12588\n",
      "1178.589966\n",
      "1258.51001\n",
      "22.8890857898669\n",
      "12779\n",
      "2176.94\n",
      "2268.88\n",
      "23.855774144860778\n",
      "14289\n",
      "2495.62\n",
      "2575.21\n",
      "24.61657950152144\n",
      "14495\n"
     ]
    }
   ],
   "source": [
    "# assuming you start with $1 million.\n",
    "money = 1\n",
    "money_full = []\n",
    "trade_full = []\n",
    "# if you haven't sell the stock, you cannot buy the new stock,\n",
    "lastselltime = -window_size\n",
    "for i in range(1,X_full.shape[0]):\n",
    "    temp = sc.inverse_transform(X_full[i,:, :])\n",
    "    prob_temp = temp[:, 1]\n",
    "    price_temp = temp[:, 0]\n",
    "    if prob_temp[window_size-1] > 0.95 and (i-lastselltime > window_size):\n",
    "        # sell at this point\n",
    "        # buy at the local minia in this window interval\n",
    "        buy_price = min(price_temp)\n",
    "        # in case of the overflow\n",
    "        if buy_price > 0:\n",
    "            sell_price = price_temp[len(price_temp)-1]\n",
    "            money = sell_price/buy_price*money\n",
    "            lastselltime = i\n",
    "            print(buy_price)\n",
    "            print(sell_price)\n",
    "            print(money)\n",
    "            print(i)   \n",
    "            money_full.append(money)\n",
    "            trade_full.append(i)"
   ]
  },
  {
   "cell_type": "code",
   "execution_count": 260,
   "id": "45d160d1",
   "metadata": {},
   "outputs": [
    {
     "data": {
      "text/plain": [
       "24.61657950152144"
      ]
     },
     "execution_count": 260,
     "metadata": {},
     "output_type": "execute_result"
    }
   ],
   "source": [
    "money "
   ]
  },
  {
   "cell_type": "code",
   "execution_count": null,
   "id": "6b9b3ca1",
   "metadata": {},
   "outputs": [],
   "source": []
  }
 ],
 "metadata": {
  "kernelspec": {
   "display_name": "Python 3 (ipykernel)",
   "language": "python",
   "name": "python3"
  },
  "language_info": {
   "codemirror_mode": {
    "name": "ipython",
    "version": 3
   },
   "file_extension": ".py",
   "mimetype": "text/x-python",
   "name": "python",
   "nbconvert_exporter": "python",
   "pygments_lexer": "ipython3",
   "version": "3.8.8"
  }
 },
 "nbformat": 4,
 "nbformat_minor": 5
}
